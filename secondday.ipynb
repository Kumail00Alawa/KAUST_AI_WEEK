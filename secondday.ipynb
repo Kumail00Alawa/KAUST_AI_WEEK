{
 "cells": [
  {
   "cell_type": "code",
   "execution_count": 1,
   "id": "42246d81",
   "metadata": {
    "_cell_guid": "b1076dfc-b9ad-4769-8c92-a6c4dae69d19",
    "_uuid": "8f2839f25d086af736a60e9eeb907d3b93b6e0e5",
    "execution": {
     "iopub.execute_input": "2022-11-28T10:58:18.012006Z",
     "iopub.status.busy": "2022-11-28T10:58:18.011386Z",
     "iopub.status.idle": "2022-11-28T10:58:18.038588Z",
     "shell.execute_reply": "2022-11-28T10:58:18.037416Z"
    },
    "papermill": {
     "duration": 0.049682,
     "end_time": "2022-11-28T10:58:18.042287",
     "exception": false,
     "start_time": "2022-11-28T10:58:17.992605",
     "status": "completed"
    },
    "tags": []
   },
   "outputs": [
    {
     "name": "stdout",
     "output_type": "stream",
     "text": [
      "/kaggle/input/cardataset/data.csv\n",
      "/kaggle/input/test123/secondday.ipynb\n",
      "/kaggle/input/test123/myfunc.py\n"
     ]
    }
   ],
   "source": [
    "# This Python 3 environment comes with many helpful analytics libraries installed\n",
    "# It is defined by the kaggle/python Docker image: https://github.com/kaggle/docker-python\n",
    "# For example, here's several helpful packages to load\n",
    "\n",
    "import numpy as np # linear algebra\n",
    "import pandas as pd # data processing, CSV file I/O (e.g. pd.read_csv)\n",
    "\n",
    "# Input data files are available in the read-only \"../input/\" directory\n",
    "# For example, running this (by clicking run or pressing Shift+Enter) will list all files under the input directory\n",
    "\n",
    "import os\n",
    "for dirname, _, filenames in os.walk('/kaggle/input'):\n",
    "    for filename in filenames:\n",
    "        print(os.path.join(dirname, filename))\n",
    "        \n",
    "# You can write up to 20GB to the current directory (/kaggle/working/) that gets preserved as output when you create a version using \"Save & Run All\" \n",
    "# You can also write temporary files to /kaggle/temp/, but they won't be saved outside of the current session"
   ]
  },
  {
   "cell_type": "code",
   "execution_count": 2,
   "id": "1e30d8ab",
   "metadata": {
    "execution": {
     "iopub.execute_input": "2022-11-28T10:58:18.072053Z",
     "iopub.status.busy": "2022-11-28T10:58:18.071633Z",
     "iopub.status.idle": "2022-11-28T10:58:18.166113Z",
     "shell.execute_reply": "2022-11-28T10:58:18.164989Z"
    },
    "papermill": {
     "duration": 0.112205,
     "end_time": "2022-11-28T10:58:18.168907",
     "exception": false,
     "start_time": "2022-11-28T10:58:18.056702",
     "status": "completed"
    },
    "tags": []
   },
   "outputs": [
    {
     "data": {
      "text/html": [
       "<div>\n",
       "<style scoped>\n",
       "    .dataframe tbody tr th:only-of-type {\n",
       "        vertical-align: middle;\n",
       "    }\n",
       "\n",
       "    .dataframe tbody tr th {\n",
       "        vertical-align: top;\n",
       "    }\n",
       "\n",
       "    .dataframe thead th {\n",
       "        text-align: right;\n",
       "    }\n",
       "</style>\n",
       "<table border=\"1\" class=\"dataframe\">\n",
       "  <thead>\n",
       "    <tr style=\"text-align: right;\">\n",
       "      <th></th>\n",
       "      <th>Make</th>\n",
       "      <th>Model</th>\n",
       "      <th>Year</th>\n",
       "      <th>Engine Fuel Type</th>\n",
       "      <th>Engine HP</th>\n",
       "      <th>Engine Cylinders</th>\n",
       "      <th>Transmission Type</th>\n",
       "      <th>Driven_Wheels</th>\n",
       "      <th>Number of Doors</th>\n",
       "      <th>Market Category</th>\n",
       "      <th>Vehicle Size</th>\n",
       "      <th>Vehicle Style</th>\n",
       "      <th>highway MPG</th>\n",
       "      <th>city mpg</th>\n",
       "      <th>Popularity</th>\n",
       "      <th>MSRP</th>\n",
       "    </tr>\n",
       "  </thead>\n",
       "  <tbody>\n",
       "    <tr>\n",
       "      <th>0</th>\n",
       "      <td>BMW</td>\n",
       "      <td>1 Series M</td>\n",
       "      <td>2011</td>\n",
       "      <td>premium unleaded (required)</td>\n",
       "      <td>335.0</td>\n",
       "      <td>6.0</td>\n",
       "      <td>MANUAL</td>\n",
       "      <td>rear wheel drive</td>\n",
       "      <td>2.0</td>\n",
       "      <td>Factory Tuner,Luxury,High-Performance</td>\n",
       "      <td>Compact</td>\n",
       "      <td>Coupe</td>\n",
       "      <td>26</td>\n",
       "      <td>19</td>\n",
       "      <td>3916</td>\n",
       "      <td>46135</td>\n",
       "    </tr>\n",
       "    <tr>\n",
       "      <th>1</th>\n",
       "      <td>BMW</td>\n",
       "      <td>1 Series</td>\n",
       "      <td>2011</td>\n",
       "      <td>premium unleaded (required)</td>\n",
       "      <td>300.0</td>\n",
       "      <td>6.0</td>\n",
       "      <td>MANUAL</td>\n",
       "      <td>rear wheel drive</td>\n",
       "      <td>2.0</td>\n",
       "      <td>Luxury,Performance</td>\n",
       "      <td>Compact</td>\n",
       "      <td>Convertible</td>\n",
       "      <td>28</td>\n",
       "      <td>19</td>\n",
       "      <td>3916</td>\n",
       "      <td>40650</td>\n",
       "    </tr>\n",
       "    <tr>\n",
       "      <th>2</th>\n",
       "      <td>BMW</td>\n",
       "      <td>1 Series</td>\n",
       "      <td>2011</td>\n",
       "      <td>premium unleaded (required)</td>\n",
       "      <td>300.0</td>\n",
       "      <td>6.0</td>\n",
       "      <td>MANUAL</td>\n",
       "      <td>rear wheel drive</td>\n",
       "      <td>2.0</td>\n",
       "      <td>Luxury,High-Performance</td>\n",
       "      <td>Compact</td>\n",
       "      <td>Coupe</td>\n",
       "      <td>28</td>\n",
       "      <td>20</td>\n",
       "      <td>3916</td>\n",
       "      <td>36350</td>\n",
       "    </tr>\n",
       "    <tr>\n",
       "      <th>3</th>\n",
       "      <td>BMW</td>\n",
       "      <td>1 Series</td>\n",
       "      <td>2011</td>\n",
       "      <td>premium unleaded (required)</td>\n",
       "      <td>230.0</td>\n",
       "      <td>6.0</td>\n",
       "      <td>MANUAL</td>\n",
       "      <td>rear wheel drive</td>\n",
       "      <td>2.0</td>\n",
       "      <td>Luxury,Performance</td>\n",
       "      <td>Compact</td>\n",
       "      <td>Coupe</td>\n",
       "      <td>28</td>\n",
       "      <td>18</td>\n",
       "      <td>3916</td>\n",
       "      <td>29450</td>\n",
       "    </tr>\n",
       "    <tr>\n",
       "      <th>4</th>\n",
       "      <td>BMW</td>\n",
       "      <td>1 Series</td>\n",
       "      <td>2011</td>\n",
       "      <td>premium unleaded (required)</td>\n",
       "      <td>230.0</td>\n",
       "      <td>6.0</td>\n",
       "      <td>MANUAL</td>\n",
       "      <td>rear wheel drive</td>\n",
       "      <td>2.0</td>\n",
       "      <td>Luxury</td>\n",
       "      <td>Compact</td>\n",
       "      <td>Convertible</td>\n",
       "      <td>28</td>\n",
       "      <td>18</td>\n",
       "      <td>3916</td>\n",
       "      <td>34500</td>\n",
       "    </tr>\n",
       "  </tbody>\n",
       "</table>\n",
       "</div>"
      ],
      "text/plain": [
       "  Make       Model  Year             Engine Fuel Type  Engine HP  \\\n",
       "0  BMW  1 Series M  2011  premium unleaded (required)      335.0   \n",
       "1  BMW    1 Series  2011  premium unleaded (required)      300.0   \n",
       "2  BMW    1 Series  2011  premium unleaded (required)      300.0   \n",
       "3  BMW    1 Series  2011  premium unleaded (required)      230.0   \n",
       "4  BMW    1 Series  2011  premium unleaded (required)      230.0   \n",
       "\n",
       "   Engine Cylinders Transmission Type     Driven_Wheels  Number of Doors  \\\n",
       "0               6.0            MANUAL  rear wheel drive              2.0   \n",
       "1               6.0            MANUAL  rear wheel drive              2.0   \n",
       "2               6.0            MANUAL  rear wheel drive              2.0   \n",
       "3               6.0            MANUAL  rear wheel drive              2.0   \n",
       "4               6.0            MANUAL  rear wheel drive              2.0   \n",
       "\n",
       "                         Market Category Vehicle Size Vehicle Style  \\\n",
       "0  Factory Tuner,Luxury,High-Performance      Compact         Coupe   \n",
       "1                     Luxury,Performance      Compact   Convertible   \n",
       "2                Luxury,High-Performance      Compact         Coupe   \n",
       "3                     Luxury,Performance      Compact         Coupe   \n",
       "4                                 Luxury      Compact   Convertible   \n",
       "\n",
       "   highway MPG  city mpg  Popularity   MSRP  \n",
       "0           26        19        3916  46135  \n",
       "1           28        19        3916  40650  \n",
       "2           28        20        3916  36350  \n",
       "3           28        18        3916  29450  \n",
       "4           28        18        3916  34500  "
      ]
     },
     "execution_count": 2,
     "metadata": {},
     "output_type": "execute_result"
    }
   ],
   "source": [
    "# Read the testing dataset\n",
    "df = pd.read_csv('/kaggle/input/cardataset/data.csv')\n",
    "\n",
    "df.head()"
   ]
  },
  {
   "cell_type": "code",
   "execution_count": 3,
   "id": "db5bfb93",
   "metadata": {
    "execution": {
     "iopub.execute_input": "2022-11-28T10:58:18.200299Z",
     "iopub.status.busy": "2022-11-28T10:58:18.199288Z",
     "iopub.status.idle": "2022-11-28T10:58:18.231849Z",
     "shell.execute_reply": "2022-11-28T10:58:18.229375Z"
    },
    "papermill": {
     "duration": 0.053097,
     "end_time": "2022-11-28T10:58:18.235962",
     "exception": false,
     "start_time": "2022-11-28T10:58:18.182865",
     "status": "completed"
    },
    "tags": []
   },
   "outputs": [
    {
     "name": "stdout",
     "output_type": "stream",
     "text": [
      "<class 'pandas.core.frame.DataFrame'>\n",
      "RangeIndex: 11914 entries, 0 to 11913\n",
      "Data columns (total 16 columns):\n",
      " #   Column             Non-Null Count  Dtype  \n",
      "---  ------             --------------  -----  \n",
      " 0   Make               11914 non-null  object \n",
      " 1   Model              11914 non-null  object \n",
      " 2   Year               11914 non-null  int64  \n",
      " 3   Engine Fuel Type   11911 non-null  object \n",
      " 4   Engine HP          11845 non-null  float64\n",
      " 5   Engine Cylinders   11884 non-null  float64\n",
      " 6   Transmission Type  11914 non-null  object \n",
      " 7   Driven_Wheels      11914 non-null  object \n",
      " 8   Number of Doors    11908 non-null  float64\n",
      " 9   Market Category    8172 non-null   object \n",
      " 10  Vehicle Size       11914 non-null  object \n",
      " 11  Vehicle Style      11914 non-null  object \n",
      " 12  highway MPG        11914 non-null  int64  \n",
      " 13  city mpg           11914 non-null  int64  \n",
      " 14  Popularity         11914 non-null  int64  \n",
      " 15  MSRP               11914 non-null  int64  \n",
      "dtypes: float64(3), int64(5), object(8)\n",
      "memory usage: 1.5+ MB\n"
     ]
    }
   ],
   "source": [
    "df.info()"
   ]
  },
  {
   "cell_type": "code",
   "execution_count": 4,
   "id": "c87d58b7",
   "metadata": {
    "execution": {
     "iopub.execute_input": "2022-11-28T10:58:18.266316Z",
     "iopub.status.busy": "2022-11-28T10:58:18.265327Z",
     "iopub.status.idle": "2022-11-28T10:58:18.306958Z",
     "shell.execute_reply": "2022-11-28T10:58:18.305706Z"
    },
    "papermill": {
     "duration": 0.059065,
     "end_time": "2022-11-28T10:58:18.309459",
     "exception": false,
     "start_time": "2022-11-28T10:58:18.250394",
     "status": "completed"
    },
    "tags": []
   },
   "outputs": [
    {
     "data": {
      "text/html": [
       "<div>\n",
       "<style scoped>\n",
       "    .dataframe tbody tr th:only-of-type {\n",
       "        vertical-align: middle;\n",
       "    }\n",
       "\n",
       "    .dataframe tbody tr th {\n",
       "        vertical-align: top;\n",
       "    }\n",
       "\n",
       "    .dataframe thead th {\n",
       "        text-align: right;\n",
       "    }\n",
       "</style>\n",
       "<table border=\"1\" class=\"dataframe\">\n",
       "  <thead>\n",
       "    <tr style=\"text-align: right;\">\n",
       "      <th></th>\n",
       "      <th>Year</th>\n",
       "      <th>Engine HP</th>\n",
       "      <th>Engine Cylinders</th>\n",
       "      <th>Number of Doors</th>\n",
       "      <th>highway MPG</th>\n",
       "      <th>city mpg</th>\n",
       "      <th>Popularity</th>\n",
       "      <th>MSRP</th>\n",
       "    </tr>\n",
       "  </thead>\n",
       "  <tbody>\n",
       "    <tr>\n",
       "      <th>count</th>\n",
       "      <td>11914.000000</td>\n",
       "      <td>11845.00000</td>\n",
       "      <td>11884.000000</td>\n",
       "      <td>11908.000000</td>\n",
       "      <td>11914.000000</td>\n",
       "      <td>11914.000000</td>\n",
       "      <td>11914.000000</td>\n",
       "      <td>1.191400e+04</td>\n",
       "    </tr>\n",
       "    <tr>\n",
       "      <th>mean</th>\n",
       "      <td>2010.384338</td>\n",
       "      <td>249.38607</td>\n",
       "      <td>5.628829</td>\n",
       "      <td>3.436093</td>\n",
       "      <td>26.637485</td>\n",
       "      <td>19.733255</td>\n",
       "      <td>1554.911197</td>\n",
       "      <td>4.059474e+04</td>\n",
       "    </tr>\n",
       "    <tr>\n",
       "      <th>std</th>\n",
       "      <td>7.579740</td>\n",
       "      <td>109.19187</td>\n",
       "      <td>1.780559</td>\n",
       "      <td>0.881315</td>\n",
       "      <td>8.863001</td>\n",
       "      <td>8.987798</td>\n",
       "      <td>1441.855347</td>\n",
       "      <td>6.010910e+04</td>\n",
       "    </tr>\n",
       "    <tr>\n",
       "      <th>min</th>\n",
       "      <td>1990.000000</td>\n",
       "      <td>55.00000</td>\n",
       "      <td>0.000000</td>\n",
       "      <td>2.000000</td>\n",
       "      <td>12.000000</td>\n",
       "      <td>7.000000</td>\n",
       "      <td>2.000000</td>\n",
       "      <td>2.000000e+03</td>\n",
       "    </tr>\n",
       "    <tr>\n",
       "      <th>25%</th>\n",
       "      <td>2007.000000</td>\n",
       "      <td>170.00000</td>\n",
       "      <td>4.000000</td>\n",
       "      <td>2.000000</td>\n",
       "      <td>22.000000</td>\n",
       "      <td>16.000000</td>\n",
       "      <td>549.000000</td>\n",
       "      <td>2.100000e+04</td>\n",
       "    </tr>\n",
       "    <tr>\n",
       "      <th>50%</th>\n",
       "      <td>2015.000000</td>\n",
       "      <td>227.00000</td>\n",
       "      <td>6.000000</td>\n",
       "      <td>4.000000</td>\n",
       "      <td>26.000000</td>\n",
       "      <td>18.000000</td>\n",
       "      <td>1385.000000</td>\n",
       "      <td>2.999500e+04</td>\n",
       "    </tr>\n",
       "    <tr>\n",
       "      <th>75%</th>\n",
       "      <td>2016.000000</td>\n",
       "      <td>300.00000</td>\n",
       "      <td>6.000000</td>\n",
       "      <td>4.000000</td>\n",
       "      <td>30.000000</td>\n",
       "      <td>22.000000</td>\n",
       "      <td>2009.000000</td>\n",
       "      <td>4.223125e+04</td>\n",
       "    </tr>\n",
       "    <tr>\n",
       "      <th>max</th>\n",
       "      <td>2017.000000</td>\n",
       "      <td>1001.00000</td>\n",
       "      <td>16.000000</td>\n",
       "      <td>4.000000</td>\n",
       "      <td>354.000000</td>\n",
       "      <td>137.000000</td>\n",
       "      <td>5657.000000</td>\n",
       "      <td>2.065902e+06</td>\n",
       "    </tr>\n",
       "  </tbody>\n",
       "</table>\n",
       "</div>"
      ],
      "text/plain": [
       "               Year    Engine HP  Engine Cylinders  Number of Doors  \\\n",
       "count  11914.000000  11845.00000      11884.000000     11908.000000   \n",
       "mean    2010.384338    249.38607          5.628829         3.436093   \n",
       "std        7.579740    109.19187          1.780559         0.881315   \n",
       "min     1990.000000     55.00000          0.000000         2.000000   \n",
       "25%     2007.000000    170.00000          4.000000         2.000000   \n",
       "50%     2015.000000    227.00000          6.000000         4.000000   \n",
       "75%     2016.000000    300.00000          6.000000         4.000000   \n",
       "max     2017.000000   1001.00000         16.000000         4.000000   \n",
       "\n",
       "        highway MPG      city mpg    Popularity          MSRP  \n",
       "count  11914.000000  11914.000000  11914.000000  1.191400e+04  \n",
       "mean      26.637485     19.733255   1554.911197  4.059474e+04  \n",
       "std        8.863001      8.987798   1441.855347  6.010910e+04  \n",
       "min       12.000000      7.000000      2.000000  2.000000e+03  \n",
       "25%       22.000000     16.000000    549.000000  2.100000e+04  \n",
       "50%       26.000000     18.000000   1385.000000  2.999500e+04  \n",
       "75%       30.000000     22.000000   2009.000000  4.223125e+04  \n",
       "max      354.000000    137.000000   5657.000000  2.065902e+06  "
      ]
     },
     "execution_count": 4,
     "metadata": {},
     "output_type": "execute_result"
    }
   ],
   "source": [
    "df.describe()"
   ]
  },
  {
   "cell_type": "code",
   "execution_count": 5,
   "id": "7f2d7248",
   "metadata": {
    "execution": {
     "iopub.execute_input": "2022-11-28T10:58:18.340304Z",
     "iopub.status.busy": "2022-11-28T10:58:18.339527Z",
     "iopub.status.idle": "2022-11-28T10:58:18.347846Z",
     "shell.execute_reply": "2022-11-28T10:58:18.346978Z"
    },
    "papermill": {
     "duration": 0.02618,
     "end_time": "2022-11-28T10:58:18.350017",
     "exception": false,
     "start_time": "2022-11-28T10:58:18.323837",
     "status": "completed"
    },
    "tags": []
   },
   "outputs": [
    {
     "data": {
      "text/plain": [
       "array(['BMW', 'Audi', 'FIAT', 'Mercedes-Benz', 'Chrysler', 'Nissan',\n",
       "       'Volvo', 'Mazda', 'Mitsubishi', 'Ferrari', 'Alfa Romeo', 'Toyota',\n",
       "       'McLaren', 'Maybach', 'Pontiac', 'Porsche', 'Saab', 'GMC',\n",
       "       'Hyundai', 'Plymouth', 'Honda', 'Oldsmobile', 'Suzuki', 'Ford',\n",
       "       'Cadillac', 'Kia', 'Bentley', 'Chevrolet', 'Dodge', 'Lamborghini',\n",
       "       'Lincoln', 'Subaru', 'Volkswagen', 'Spyker', 'Buick', 'Acura',\n",
       "       'Rolls-Royce', 'Maserati', 'Lexus', 'Aston Martin', 'Land Rover',\n",
       "       'Lotus', 'Infiniti', 'Scion', 'Genesis', 'HUMMER', 'Tesla',\n",
       "       'Bugatti'], dtype=object)"
      ]
     },
     "execution_count": 5,
     "metadata": {},
     "output_type": "execute_result"
    }
   ],
   "source": [
    "df['Make'].unique()"
   ]
  },
  {
   "cell_type": "code",
   "execution_count": 6,
   "id": "744163d4",
   "metadata": {
    "execution": {
     "iopub.execute_input": "2022-11-28T10:58:18.382281Z",
     "iopub.status.busy": "2022-11-28T10:58:18.381595Z",
     "iopub.status.idle": "2022-11-28T10:58:18.389576Z",
     "shell.execute_reply": "2022-11-28T10:58:18.388597Z"
    },
    "papermill": {
     "duration": 0.026768,
     "end_time": "2022-11-28T10:58:18.391680",
     "exception": false,
     "start_time": "2022-11-28T10:58:18.364912",
     "status": "completed"
    },
    "tags": []
   },
   "outputs": [
    {
     "data": {
      "text/plain": [
       "915"
      ]
     },
     "execution_count": 6,
     "metadata": {},
     "output_type": "execute_result"
    }
   ],
   "source": [
    "len(df['Model'].unique())"
   ]
  },
  {
   "cell_type": "markdown",
   "id": "7e542bdd",
   "metadata": {
    "papermill": {
     "duration": 0.014231,
     "end_time": "2022-11-28T10:58:18.420121",
     "exception": false,
     "start_time": "2022-11-28T10:58:18.405890",
     "status": "completed"
    },
    "tags": []
   },
   "source": [
    "**LECTURE STARTS**\n",
    "* Python Basics\n",
    "* Data structures, functions\n",
    "* Numpy\n",
    "* Pandas\n",
    "* Data loading, storage and file formats\n",
    "\n",
    "* Link to the book: https://wesmckinney.com/book/python-builtin.html"
   ]
  },
  {
   "cell_type": "markdown",
   "id": "b64f4c29",
   "metadata": {
    "papermill": {
     "duration": 0.013888,
     "end_time": "2022-11-28T10:58:18.448586",
     "exception": false,
     "start_time": "2022-11-28T10:58:18.434698",
     "status": "completed"
    },
    "tags": []
   },
   "source": [
    "**Things I have learned:**\n",
    "* Everything in Python is an object: number, string, function, class, etc."
   ]
  },
  {
   "cell_type": "markdown",
   "id": "9a1eec64",
   "metadata": {
    "papermill": {
     "duration": 0.013995,
     "end_time": "2022-11-28T10:58:18.478607",
     "exception": false,
     "start_time": "2022-11-28T10:58:18.464612",
     "status": "completed"
    },
    "tags": []
   },
   "source": [
    "**Python Basics**"
   ]
  },
  {
   "cell_type": "code",
   "execution_count": 7,
   "id": "b85c48b7",
   "metadata": {
    "execution": {
     "iopub.execute_input": "2022-11-28T10:58:18.509196Z",
     "iopub.status.busy": "2022-11-28T10:58:18.508145Z",
     "iopub.status.idle": "2022-11-28T10:58:18.515653Z",
     "shell.execute_reply": "2022-11-28T10:58:18.514531Z"
    },
    "papermill": {
     "duration": 0.025203,
     "end_time": "2022-11-28T10:58:18.517956",
     "exception": false,
     "start_time": "2022-11-28T10:58:18.492753",
     "status": "completed"
    },
    "tags": []
   },
   "outputs": [
    {
     "data": {
      "text/plain": [
       "True"
      ]
     },
     "execution_count": 7,
     "metadata": {},
     "output_type": "execute_result"
    }
   ],
   "source": [
    "b = 1.3\n",
    "isinstance(b, float)"
   ]
  },
  {
   "cell_type": "code",
   "execution_count": 8,
   "id": "a2265b3d",
   "metadata": {
    "execution": {
     "iopub.execute_input": "2022-11-28T10:58:18.550587Z",
     "iopub.status.busy": "2022-11-28T10:58:18.549919Z",
     "iopub.status.idle": "2022-11-28T10:58:18.558059Z",
     "shell.execute_reply": "2022-11-28T10:58:18.556618Z"
    },
    "papermill": {
     "duration": 0.027466,
     "end_time": "2022-11-28T10:58:18.560521",
     "exception": false,
     "start_time": "2022-11-28T10:58:18.533055",
     "status": "completed"
    },
    "tags": []
   },
   "outputs": [
    {
     "name": "stdout",
     "output_type": "stream",
     "text": [
      "Compute a/b: 0.33\n",
      "The value of a: 0 and the value of 0\n",
      "The value of a: 0 and the value of -4.5\n",
      "Compute a/b: 1.00\n",
      "The value of a: -3.9 and the value of 0\n",
      "Compute a/b: 1.00\n",
      "Compute a/b: -1.00\n",
      "Compute a/b: 0.74\n",
      "The value of a: -2 and the value of -8\n",
      "The value of a: -3.4 and the value of 0\n"
     ]
    }
   ],
   "source": [
    "listOfNumbers = [(1, 3), (0, 0), (0, -4.5), (4.5, 4.5), (-3.9, 0), (2.2, 2.2), (9.2, -9.2), (2.8, 3.8), (-2, -8), (-3.4, 0)]\n",
    "\n",
    "for eachTuple in listOfNumbers:\n",
    "    \n",
    "    a,b = eachTuple\n",
    "\n",
    "    def func(a,b):\n",
    "        if a > 0 and b != 0:\n",
    "            print(f'Compute a/b: {a/b:.2f}')\n",
    "            return True\n",
    "\n",
    "        else:\n",
    "            print(f'The value of a: {a} and the value of {b}')\n",
    "            return False\n",
    "\n",
    "    func(a,b)"
   ]
  },
  {
   "cell_type": "markdown",
   "id": "acc4562b",
   "metadata": {
    "papermill": {
     "duration": 0.014723,
     "end_time": "2022-11-28T10:58:18.589723",
     "exception": false,
     "start_time": "2022-11-28T10:58:18.575000",
     "status": "completed"
    },
    "tags": []
   },
   "source": [
    "* Mutable & Immutable\n",
    "\n",
    "* * A tuple is immutable\n",
    "\n",
    "* * A list is mutable\n",
    "* a[0] = 1\n",
    "* * A string is immutable\n",
    "* The above could not be done for strings\n",
    "\n",
    "* * Strings could be converted to a list"
   ]
  },
  {
   "cell_type": "markdown",
   "id": "cbdcd536",
   "metadata": {
    "papermill": {
     "duration": 0.015012,
     "end_time": "2022-11-28T10:58:18.620451",
     "exception": false,
     "start_time": "2022-11-28T10:58:18.605439",
     "status": "completed"
    },
    "tags": []
   },
   "source": [
    "* Computing execution time"
   ]
  },
  {
   "cell_type": "code",
   "execution_count": 9,
   "id": "a7f85dd6",
   "metadata": {
    "execution": {
     "iopub.execute_input": "2022-11-28T10:58:18.651473Z",
     "iopub.status.busy": "2022-11-28T10:58:18.650870Z",
     "iopub.status.idle": "2022-11-28T10:58:18.655605Z",
     "shell.execute_reply": "2022-11-28T10:58:18.654531Z"
    },
    "papermill": {
     "duration": 0.023019,
     "end_time": "2022-11-28T10:58:18.658018",
     "exception": false,
     "start_time": "2022-11-28T10:58:18.634999",
     "status": "completed"
    },
    "tags": []
   },
   "outputs": [],
   "source": [
    "from datetime import datetime\n",
    "\n",
    "dt = datetime(2022, 11, 28, 10, 35)\n",
    "dt2 = datetime(2025, 11, 18, 10, 35)"
   ]
  },
  {
   "cell_type": "markdown",
   "id": "a4c2968d",
   "metadata": {
    "papermill": {
     "duration": 0.014307,
     "end_time": "2022-11-28T10:58:18.687078",
     "exception": false,
     "start_time": "2022-11-28T10:58:18.672771",
     "status": "completed"
    },
    "tags": []
   },
   "source": [
    "* Atributes and functions in Python"
   ]
  },
  {
   "cell_type": "code",
   "execution_count": 10,
   "id": "4a8f62f4",
   "metadata": {
    "execution": {
     "iopub.execute_input": "2022-11-28T10:58:18.719195Z",
     "iopub.status.busy": "2022-11-28T10:58:18.718455Z",
     "iopub.status.idle": "2022-11-28T10:58:18.724059Z",
     "shell.execute_reply": "2022-11-28T10:58:18.723230Z"
    },
    "papermill": {
     "duration": 0.024036,
     "end_time": "2022-11-28T10:58:18.726048",
     "exception": false,
     "start_time": "2022-11-28T10:58:18.702012",
     "status": "completed"
    },
    "tags": []
   },
   "outputs": [
    {
     "data": {
      "text/plain": [
       "2022"
      ]
     },
     "execution_count": 10,
     "metadata": {},
     "output_type": "execute_result"
    }
   ],
   "source": [
    "dt.year"
   ]
  },
  {
   "cell_type": "code",
   "execution_count": 11,
   "id": "97d31b37",
   "metadata": {
    "execution": {
     "iopub.execute_input": "2022-11-28T10:58:18.757907Z",
     "iopub.status.busy": "2022-11-28T10:58:18.757301Z",
     "iopub.status.idle": "2022-11-28T10:58:18.762922Z",
     "shell.execute_reply": "2022-11-28T10:58:18.762188Z"
    },
    "papermill": {
     "duration": 0.023953,
     "end_time": "2022-11-28T10:58:18.764900",
     "exception": false,
     "start_time": "2022-11-28T10:58:18.740947",
     "status": "completed"
    },
    "tags": []
   },
   "outputs": [
    {
     "data": {
      "text/plain": [
       "datetime.date(2022, 11, 28)"
      ]
     },
     "execution_count": 11,
     "metadata": {},
     "output_type": "execute_result"
    }
   ],
   "source": [
    "dt.date()"
   ]
  },
  {
   "cell_type": "code",
   "execution_count": 12,
   "id": "155ddd15",
   "metadata": {
    "execution": {
     "iopub.execute_input": "2022-11-28T10:58:18.796736Z",
     "iopub.status.busy": "2022-11-28T10:58:18.796064Z",
     "iopub.status.idle": "2022-11-28T10:58:18.801646Z",
     "shell.execute_reply": "2022-11-28T10:58:18.800629Z"
    },
    "papermill": {
     "duration": 0.023998,
     "end_time": "2022-11-28T10:58:18.803717",
     "exception": false,
     "start_time": "2022-11-28T10:58:18.779719",
     "status": "completed"
    },
    "tags": []
   },
   "outputs": [
    {
     "data": {
      "text/plain": [
       "datetime.time(10, 35)"
      ]
     },
     "execution_count": 12,
     "metadata": {},
     "output_type": "execute_result"
    }
   ],
   "source": [
    "dt.time()"
   ]
  },
  {
   "cell_type": "code",
   "execution_count": 13,
   "id": "d4c6db35",
   "metadata": {
    "execution": {
     "iopub.execute_input": "2022-11-28T10:58:18.835904Z",
     "iopub.status.busy": "2022-11-28T10:58:18.835318Z",
     "iopub.status.idle": "2022-11-28T10:58:18.841482Z",
     "shell.execute_reply": "2022-11-28T10:58:18.840214Z"
    },
    "papermill": {
     "duration": 0.024698,
     "end_time": "2022-11-28T10:58:18.843824",
     "exception": false,
     "start_time": "2022-11-28T10:58:18.819126",
     "status": "completed"
    },
    "tags": []
   },
   "outputs": [
    {
     "data": {
      "text/plain": [
       "datetime.timedelta(days=1086)"
      ]
     },
     "execution_count": 13,
     "metadata": {},
     "output_type": "execute_result"
    }
   ],
   "source": [
    "dt2-dt"
   ]
  },
  {
   "cell_type": "code",
   "execution_count": 14,
   "id": "ee92178f",
   "metadata": {
    "execution": {
     "iopub.execute_input": "2022-11-28T10:58:18.876014Z",
     "iopub.status.busy": "2022-11-28T10:58:18.875242Z",
     "iopub.status.idle": "2022-11-28T10:58:18.880808Z",
     "shell.execute_reply": "2022-11-28T10:58:18.879912Z"
    },
    "papermill": {
     "duration": 0.024742,
     "end_time": "2022-11-28T10:58:18.883307",
     "exception": false,
     "start_time": "2022-11-28T10:58:18.858565",
     "status": "completed"
    },
    "tags": []
   },
   "outputs": [],
   "source": [
    "a = 1.3\n",
    "\n",
    "if a > 1:\n",
    "    pass\n",
    "else:\n",
    "    print(a)"
   ]
  },
  {
   "cell_type": "code",
   "execution_count": 15,
   "id": "8243fa2f",
   "metadata": {
    "execution": {
     "iopub.execute_input": "2022-11-28T10:58:18.915416Z",
     "iopub.status.busy": "2022-11-28T10:58:18.914984Z",
     "iopub.status.idle": "2022-11-28T10:58:18.922210Z",
     "shell.execute_reply": "2022-11-28T10:58:18.920760Z"
    },
    "papermill": {
     "duration": 0.02645,
     "end_time": "2022-11-28T10:58:18.924630",
     "exception": false,
     "start_time": "2022-11-28T10:58:18.898180",
     "status": "completed"
    },
    "tags": []
   },
   "outputs": [
    {
     "name": "stdout",
     "output_type": "stream",
     "text": [
      "i and j are 0, 0\n",
      "i and j are 0, 1\n",
      "i and j are 0, 2\n",
      "i and j are 0, 4\n",
      "i and j are 1, 0\n",
      "i and j are 1, 1\n",
      "i and j are 1, 2\n",
      "i and j are 1, 4\n",
      "i and j are 2, 0\n",
      "i and j are 2, 1\n",
      "i and j are 2, 2\n",
      "i and j are 2, 4\n",
      "i and j are 3, 0\n",
      "i and j are 3, 1\n",
      "i and j are 3, 2\n",
      "i and j are 3, 4\n"
     ]
    }
   ],
   "source": [
    "for i in range(4):\n",
    "    for j in range(5):\n",
    "        if j == 3: \n",
    "            continue # skip no. 3\n",
    "        print(f'i and j are {i}, {j}')"
   ]
  },
  {
   "cell_type": "code",
   "execution_count": 16,
   "id": "71e8d63e",
   "metadata": {
    "execution": {
     "iopub.execute_input": "2022-11-28T10:58:18.957791Z",
     "iopub.status.busy": "2022-11-28T10:58:18.957312Z",
     "iopub.status.idle": "2022-11-28T10:58:18.963870Z",
     "shell.execute_reply": "2022-11-28T10:58:18.962642Z"
    },
    "papermill": {
     "duration": 0.027483,
     "end_time": "2022-11-28T10:58:18.967079",
     "exception": false,
     "start_time": "2022-11-28T10:58:18.939596",
     "status": "completed"
    },
    "tags": []
   },
   "outputs": [
    {
     "name": "stdout",
     "output_type": "stream",
     "text": [
      "1 2 [3, 4, 5, 6]\n"
     ]
    }
   ],
   "source": [
    "values = 1,2,3,4,5,6\n",
    "\n",
    "a,b, *_ = values\n",
    "\n",
    "print(f'{a} {b} {_}')"
   ]
  },
  {
   "cell_type": "markdown",
   "id": "6b142a9e",
   "metadata": {
    "execution": {
     "iopub.execute_input": "2022-11-28T08:21:33.070601Z",
     "iopub.status.busy": "2022-11-28T08:21:33.070045Z",
     "iopub.status.idle": "2022-11-28T08:21:33.076430Z",
     "shell.execute_reply": "2022-11-28T08:21:33.074811Z",
     "shell.execute_reply.started": "2022-11-28T08:21:33.070482Z"
    },
    "papermill": {
     "duration": 0.016163,
     "end_time": "2022-11-28T10:58:18.998881",
     "exception": false,
     "start_time": "2022-11-28T10:58:18.982718",
     "status": "completed"
    },
    "tags": []
   },
   "source": [
    "# Delete elements in a dict:\n",
    "\n",
    "### 'del' command\n",
    "### 'pop' command\n",
    "\n",
    "\n",
    "### Append dictionaries:\n",
    "### 'update' command"
   ]
  },
  {
   "cell_type": "markdown",
   "id": "2a1afed2",
   "metadata": {
    "execution": {
     "iopub.execute_input": "2022-11-28T08:24:27.216169Z",
     "iopub.status.busy": "2022-11-28T08:24:27.215783Z",
     "iopub.status.idle": "2022-11-28T08:24:27.221976Z",
     "shell.execute_reply": "2022-11-28T08:24:27.220525Z",
     "shell.execute_reply.started": "2022-11-28T08:24:27.216138Z"
    },
    "papermill": {
     "duration": 0.018785,
     "end_time": "2022-11-28T10:58:19.033982",
     "exception": false,
     "start_time": "2022-11-28T10:58:19.015197",
     "status": "completed"
    },
    "tags": []
   },
   "source": [
    "# Default dictionary concept?"
   ]
  },
  {
   "cell_type": "markdown",
   "id": "bec22a94",
   "metadata": {
    "papermill": {
     "duration": 0.014897,
     "end_time": "2022-11-28T10:58:19.069390",
     "exception": false,
     "start_time": "2022-11-28T10:58:19.054493",
     "status": "completed"
    },
    "tags": []
   },
   "source": [
    "# Sets\n",
    "* Sets disregard the sequence\n",
    "* Union\n",
    "* Intersection"
   ]
  },
  {
   "cell_type": "markdown",
   "id": "eaf6028b",
   "metadata": {
    "papermill": {
     "duration": 0.014539,
     "end_time": "2022-11-28T10:58:19.103005",
     "exception": false,
     "start_time": "2022-11-28T10:58:19.088466",
     "status": "completed"
    },
    "tags": []
   },
   "source": [
    "# Second Exercise"
   ]
  },
  {
   "attachments": {
    "b64a9a46-5e2e-4a6c-99d1-53f829dd8116.png": {
     "image/png": "[encoded data removed]"
    }
   },
   "cell_type": "markdown",
   "id": "89623f24",
   "metadata": {
    "papermill": {
     "duration": 0.014578,
     "end_time": "2022-11-28T10:58:19.132245",
     "exception": false,
     "start_time": "2022-11-28T10:58:19.117667",
     "status": "completed"
    },
    "tags": []
   },
   "source": [
    "![image.png](attachment:b64a9a46-5e2e-4a6c-99d1-53f829dd8116.png)"
   ]
  },
  {
   "cell_type": "code",
   "execution_count": 17,
   "id": "089b0738",
   "metadata": {
    "execution": {
     "iopub.execute_input": "2022-11-28T10:58:19.164253Z",
     "iopub.status.busy": "2022-11-28T10:58:19.163198Z",
     "iopub.status.idle": "2022-11-28T10:58:19.172648Z",
     "shell.execute_reply": "2022-11-28T10:58:19.171185Z"
    },
    "papermill": {
     "duration": 0.028911,
     "end_time": "2022-11-28T10:58:19.175924",
     "exception": false,
     "start_time": "2022-11-28T10:58:19.147013",
     "status": "completed"
    },
    "tags": []
   },
   "outputs": [
    {
     "name": "stdout",
     "output_type": "stream",
     "text": [
      "{'animals': ['giraff', 'monkey', 'donkey', 'fish', 'shark', 'camel', 'spider', 'cat'], 'colors': ['pink', 'black', 'brown']}\n"
     ]
    }
   ],
   "source": [
    "animals = ['dog', 'giraff', 'monkey', 'donkey', 'fish', 'shark', 'camel', 'spider']\n",
    "colors = ['red', 'green', 'blue', 'black','white', 'purple', 'brown', 'pink']\n",
    "\n",
    "def myfunc(animals, colors):\n",
    "    \n",
    "    # Adding 'cat' to the list\n",
    "    animals.append('cat')\n",
    "    animals = animals[1:]\n",
    "\n",
    "    colors = [i for i in colors if not 'e' in i]\n",
    "\n",
    "    colors = sorted(colors, key=len) # another soln that happens inplace as well: colors.sort(key=len)\n",
    "\n",
    "    return {'animals': animals, 'colors': colors}\n",
    "\n",
    "newDict = myfunc(animals, colors)\n",
    "print(newDict)"
   ]
  },
  {
   "cell_type": "markdown",
   "id": "ae538668",
   "metadata": {
    "papermill": {
     "duration": 0.01466,
     "end_time": "2022-11-28T10:58:19.206422",
     "exception": false,
     "start_time": "2022-11-28T10:58:19.191762",
     "status": "completed"
    },
    "tags": []
   },
   "source": [
    "# Numpy"
   ]
  },
  {
   "cell_type": "markdown",
   "id": "6c7d4455",
   "metadata": {
    "papermill": {
     "duration": 0.014472,
     "end_time": "2022-11-28T10:58:19.235827",
     "exception": false,
     "start_time": "2022-11-28T10:58:19.221355",
     "status": "completed"
    },
    "tags": []
   },
   "source": [
    "## Positional and Keyword arguments for functions\n",
    "* Positional arguments, depend on the position of gthe variable\n",
    "* Keywords are always after the positional, are used if you don't remember the location of the arguments of the function"
   ]
  },
  {
   "cell_type": "markdown",
   "id": "4a2cb169",
   "metadata": {
    "papermill": {
     "duration": 0.01464,
     "end_time": "2022-11-28T10:58:19.265331",
     "exception": false,
     "start_time": "2022-11-28T10:58:19.250691",
     "status": "completed"
    },
    "tags": []
   },
   "source": [
    "# Generator"
   ]
  },
  {
   "cell_type": "code",
   "execution_count": 18,
   "id": "4e0b1cc3",
   "metadata": {
    "execution": {
     "iopub.execute_input": "2022-11-28T10:58:19.297459Z",
     "iopub.status.busy": "2022-11-28T10:58:19.296665Z",
     "iopub.status.idle": "2022-11-28T10:58:19.302578Z",
     "shell.execute_reply": "2022-11-28T10:58:19.301483Z"
    },
    "papermill": {
     "duration": 0.024773,
     "end_time": "2022-11-28T10:58:19.305083",
     "exception": false,
     "start_time": "2022-11-28T10:58:19.280310",
     "status": "completed"
    },
    "tags": []
   },
   "outputs": [],
   "source": [
    "def squares (n=10):\n",
    "    print(f'Generating squares froom 1 to {n**2}')\n",
    "    for i in range(1, n+1):\n",
    "        return i**2"
   ]
  },
  {
   "cell_type": "code",
   "execution_count": 19,
   "id": "9602755f",
   "metadata": {
    "execution": {
     "iopub.execute_input": "2022-11-28T10:58:19.343312Z",
     "iopub.status.busy": "2022-11-28T10:58:19.342434Z",
     "iopub.status.idle": "2022-11-28T10:58:19.355467Z",
     "shell.execute_reply": "2022-11-28T10:58:19.353645Z"
    },
    "papermill": {
     "duration": 0.036038,
     "end_time": "2022-11-28T10:58:19.358330",
     "exception": false,
     "start_time": "2022-11-28T10:58:19.322292",
     "status": "completed"
    },
    "tags": []
   },
   "outputs": [
    {
     "name": "stdout",
     "output_type": "stream",
     "text": [
      "Generating squares froom 1 to 16\n"
     ]
    },
    {
     "data": {
      "text/plain": [
       "1"
      ]
     },
     "execution_count": 19,
     "metadata": {},
     "output_type": "execute_result"
    }
   ],
   "source": [
    "squares(n=4)"
   ]
  },
  {
   "cell_type": "code",
   "execution_count": 20,
   "id": "0fce0684",
   "metadata": {
    "execution": {
     "iopub.execute_input": "2022-11-28T10:58:19.393079Z",
     "iopub.status.busy": "2022-11-28T10:58:19.392316Z",
     "iopub.status.idle": "2022-11-28T10:58:19.397990Z",
     "shell.execute_reply": "2022-11-28T10:58:19.397199Z"
    },
    "papermill": {
     "duration": 0.025784,
     "end_time": "2022-11-28T10:58:19.400191",
     "exception": false,
     "start_time": "2022-11-28T10:58:19.374407",
     "status": "completed"
    },
    "tags": []
   },
   "outputs": [],
   "source": [
    "# Generator\n",
    "def squares (n=10):\n",
    "    print(f'Generating squares froom 1 to {n**2}')\n",
    "    for i in range(1, n+1):\n",
    "        yield i**2 # compared to 'return', 'yield' waits until it is called for it to execute"
   ]
  },
  {
   "cell_type": "code",
   "execution_count": 21,
   "id": "7ef76c23",
   "metadata": {
    "execution": {
     "iopub.execute_input": "2022-11-28T10:58:19.432416Z",
     "iopub.status.busy": "2022-11-28T10:58:19.431998Z",
     "iopub.status.idle": "2022-11-28T10:58:19.439426Z",
     "shell.execute_reply": "2022-11-28T10:58:19.437411Z"
    },
    "papermill": {
     "duration": 0.028243,
     "end_time": "2022-11-28T10:58:19.443543",
     "exception": false,
     "start_time": "2022-11-28T10:58:19.415300",
     "status": "completed"
    },
    "tags": []
   },
   "outputs": [
    {
     "name": "stdout",
     "output_type": "stream",
     "text": [
      "Generating squares froom 1 to 16\n",
      "1\n",
      "4\n",
      "9\n",
      "16\n"
     ]
    }
   ],
   "source": [
    "for x in squares(4):\n",
    "    print(x)"
   ]
  },
  {
   "cell_type": "code",
   "execution_count": 22,
   "id": "d8471839",
   "metadata": {
    "execution": {
     "iopub.execute_input": "2022-11-28T10:58:19.476277Z",
     "iopub.status.busy": "2022-11-28T10:58:19.475865Z",
     "iopub.status.idle": "2022-11-28T10:58:19.483233Z",
     "shell.execute_reply": "2022-11-28T10:58:19.482210Z"
    },
    "papermill": {
     "duration": 0.026973,
     "end_time": "2022-11-28T10:58:19.486571",
     "exception": false,
     "start_time": "2022-11-28T10:58:19.459598",
     "status": "completed"
    },
    "tags": []
   },
   "outputs": [
    {
     "name": "stdout",
     "output_type": "stream",
     "text": [
      "Generating squares froom 1 to 16\n"
     ]
    },
    {
     "data": {
      "text/plain": [
       "[1, 4, 9, 16]"
      ]
     },
     "execution_count": 22,
     "metadata": {},
     "output_type": "execute_result"
    }
   ],
   "source": [
    "# The values of the generator could also be saved\n",
    "\n",
    "mylist = squares(n=4)\n",
    "list(mylist)"
   ]
  },
  {
   "cell_type": "markdown",
   "id": "93d62285",
   "metadata": {
    "papermill": {
     "duration": 0.015274,
     "end_time": "2022-11-28T10:58:19.517242",
     "exception": false,
     "start_time": "2022-11-28T10:58:19.501968",
     "status": "completed"
    },
    "tags": []
   },
   "source": [
    "# Errors"
   ]
  },
  {
   "cell_type": "code",
   "execution_count": 23,
   "id": "fe74269d",
   "metadata": {
    "execution": {
     "iopub.execute_input": "2022-11-28T10:58:19.549824Z",
     "iopub.status.busy": "2022-11-28T10:58:19.549405Z",
     "iopub.status.idle": "2022-11-28T10:58:19.554913Z",
     "shell.execute_reply": "2022-11-28T10:58:19.553713Z"
    },
    "papermill": {
     "duration": 0.024112,
     "end_time": "2022-11-28T10:58:19.557034",
     "exception": false,
     "start_time": "2022-11-28T10:58:19.532922",
     "status": "completed"
    },
    "tags": []
   },
   "outputs": [],
   "source": [
    "def attempt_float(x):\n",
    "    try:\n",
    "        return float(x)\n",
    "    except:\n",
    "        return x\n",
    "    # else:  # if the operation was successful"
   ]
  },
  {
   "cell_type": "code",
   "execution_count": 24,
   "id": "254ba634",
   "metadata": {
    "execution": {
     "iopub.execute_input": "2022-11-28T10:58:19.590115Z",
     "iopub.status.busy": "2022-11-28T10:58:19.589705Z",
     "iopub.status.idle": "2022-11-28T10:58:19.595794Z",
     "shell.execute_reply": "2022-11-28T10:58:19.594851Z"
    },
    "papermill": {
     "duration": 0.025571,
     "end_time": "2022-11-28T10:58:19.598118",
     "exception": false,
     "start_time": "2022-11-28T10:58:19.572547",
     "status": "completed"
    },
    "tags": []
   },
   "outputs": [
    {
     "data": {
      "text/plain": [
       "1.2345"
      ]
     },
     "execution_count": 24,
     "metadata": {},
     "output_type": "execute_result"
    }
   ],
   "source": [
    "attempt_float(\"1.2345\")"
   ]
  },
  {
   "cell_type": "code",
   "execution_count": 25,
   "id": "a4a32500",
   "metadata": {
    "execution": {
     "iopub.execute_input": "2022-11-28T10:58:19.632941Z",
     "iopub.status.busy": "2022-11-28T10:58:19.632018Z",
     "iopub.status.idle": "2022-11-28T10:58:19.640068Z",
     "shell.execute_reply": "2022-11-28T10:58:19.638942Z"
    },
    "papermill": {
     "duration": 0.028302,
     "end_time": "2022-11-28T10:58:19.642708",
     "exception": false,
     "start_time": "2022-11-28T10:58:19.614406",
     "status": "completed"
    },
    "tags": []
   },
   "outputs": [
    {
     "data": {
      "text/plain": [
       "'something'"
      ]
     },
     "execution_count": 25,
     "metadata": {},
     "output_type": "execute_result"
    }
   ],
   "source": [
    "attempt_float(\"something\")"
   ]
  },
  {
   "cell_type": "code",
   "execution_count": 26,
   "id": "93e9dcd6",
   "metadata": {
    "execution": {
     "iopub.execute_input": "2022-11-28T10:58:19.682376Z",
     "iopub.status.busy": "2022-11-28T10:58:19.681775Z",
     "iopub.status.idle": "2022-11-28T10:58:19.688761Z",
     "shell.execute_reply": "2022-11-28T10:58:19.687562Z"
    },
    "papermill": {
     "duration": 0.031815,
     "end_time": "2022-11-28T10:58:19.691376",
     "exception": false,
     "start_time": "2022-11-28T10:58:19.659561",
     "status": "completed"
    },
    "tags": []
   },
   "outputs": [],
   "source": [
    "def attempt_float(x):\n",
    "    try:\n",
    "        return float(x)\n",
    "    except (ValueError, TypeError):\n",
    "        return x"
   ]
  },
  {
   "cell_type": "code",
   "execution_count": 27,
   "id": "9697c3d3",
   "metadata": {
    "execution": {
     "iopub.execute_input": "2022-11-28T10:58:19.738768Z",
     "iopub.status.busy": "2022-11-28T10:58:19.737809Z",
     "iopub.status.idle": "2022-11-28T10:58:19.745614Z",
     "shell.execute_reply": "2022-11-28T10:58:19.744449Z"
    },
    "papermill": {
     "duration": 0.036908,
     "end_time": "2022-11-28T10:58:19.747880",
     "exception": false,
     "start_time": "2022-11-28T10:58:19.710972",
     "status": "completed"
    },
    "tags": []
   },
   "outputs": [
    {
     "data": {
      "text/plain": [
       "['1', 2]"
      ]
     },
     "execution_count": 27,
     "metadata": {},
     "output_type": "execute_result"
    }
   ],
   "source": [
    "attempt_float(['1',2])"
   ]
  },
  {
   "cell_type": "markdown",
   "id": "cf8d7869",
   "metadata": {
    "papermill": {
     "duration": 0.015905,
     "end_time": "2022-11-28T10:58:19.783977",
     "exception": false,
     "start_time": "2022-11-28T10:58:19.768072",
     "status": "completed"
    },
    "tags": []
   },
   "source": [
    "# Files"
   ]
  },
  {
   "cell_type": "code",
   "execution_count": 28,
   "id": "6be51f90",
   "metadata": {
    "execution": {
     "iopub.execute_input": "2022-11-28T10:58:19.818449Z",
     "iopub.status.busy": "2022-11-28T10:58:19.817275Z",
     "iopub.status.idle": "2022-11-28T10:58:19.826384Z",
     "shell.execute_reply": "2022-11-28T10:58:19.825039Z"
    },
    "papermill": {
     "duration": 0.02908,
     "end_time": "2022-11-28T10:58:19.828844",
     "exception": false,
     "start_time": "2022-11-28T10:58:19.799764",
     "status": "completed"
    },
    "tags": []
   },
   "outputs": [
    {
     "data": {
      "text/plain": [
       "<_io.TextIOWrapper name='/working' mode='w' encoding='UTF-8'>"
      ]
     },
     "execution_count": 28,
     "metadata": {},
     "output_type": "execute_result"
    }
   ],
   "source": [
    "path = '/working'\n",
    "\n",
    "ourFile = open(path, 'w')\n",
    "\n",
    "ourFile"
   ]
  },
  {
   "cell_type": "code",
   "execution_count": 29,
   "id": "a9715cac",
   "metadata": {
    "execution": {
     "iopub.execute_input": "2022-11-28T10:58:19.863927Z",
     "iopub.status.busy": "2022-11-28T10:58:19.863185Z",
     "iopub.status.idle": "2022-11-28T10:58:19.869256Z",
     "shell.execute_reply": "2022-11-28T10:58:19.868463Z"
    },
    "papermill": {
     "duration": 0.025866,
     "end_time": "2022-11-28T10:58:19.871244",
     "exception": false,
     "start_time": "2022-11-28T10:58:19.845378",
     "status": "completed"
    },
    "tags": []
   },
   "outputs": [
    {
     "data": {
      "text/plain": [
       "15"
      ]
     },
     "execution_count": 29,
     "metadata": {},
     "output_type": "execute_result"
    }
   ],
   "source": [
    "ourFile.write('Mr first line \\n')"
   ]
  },
  {
   "cell_type": "code",
   "execution_count": null,
   "id": "b24640ec",
   "metadata": {
    "papermill": {
     "duration": 0.015564,
     "end_time": "2022-11-28T10:58:19.903248",
     "exception": false,
     "start_time": "2022-11-28T10:58:19.887684",
     "status": "completed"
    },
    "tags": []
   },
   "outputs": [],
   "source": []
  }
 ],
 "metadata": {
  "kernelspec": {
   "display_name": "Python 3",
   "language": "python",
   "name": "python3"
  },
  "language_info": {
   "codemirror_mode": {
    "name": "ipython",
    "version": 3
   },
   "file_extension": ".py",
   "mimetype": "text/x-python",
   "name": "python",
   "nbconvert_exporter": "python",
   "pygments_lexer": "ipython3",
   "version": "3.7.12"
  },
  "papermill": {
   "default_parameters": {},
   "duration": 11.364262,
   "end_time": "2022-11-28T10:58:20.542346",
   "environment_variables": {},
   "exception": null,
   "input_path": "__notebook__.ipynb",
   "output_path": "__notebook__.ipynb",
   "parameters": {},
   "start_time": "2022-11-28T10:58:09.178084",
   "version": "2.3.4"
  }
 },
 "nbformat": 4,
 "nbformat_minor": 5
}
