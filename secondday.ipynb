{
 "cells": [
  {
   "cell_type": "code",
   "execution_count": 1,
   "id": "3975058f",
   "metadata": {
    "_cell_guid": "b1076dfc-b9ad-4769-8c92-a6c4dae69d19",
    "_uuid": "8f2839f25d086af736a60e9eeb907d3b93b6e0e5",
    "execution": {
     "iopub.execute_input": "2022-11-28T07:47:22.466393Z",
     "iopub.status.busy": "2022-11-28T07:47:22.465945Z",
     "iopub.status.idle": "2022-11-28T07:47:22.483097Z",
     "shell.execute_reply": "2022-11-28T07:47:22.482299Z"
    },
    "papermill": {
     "duration": 0.028956,
     "end_time": "2022-11-28T07:47:22.486129",
     "exception": false,
     "start_time": "2022-11-28T07:47:22.457173",
     "status": "completed"
    },
    "tags": []
   },
   "outputs": [
    {
     "name": "stdout",
     "output_type": "stream",
     "text": [
      "/kaggle/input/cardataset/data.csv\n"
     ]
    }
   ],
   "source": [
    "# This Python 3 environment comes with many helpful analytics libraries installed\n",
    "# It is defined by the kaggle/python Docker image: https://github.com/kaggle/docker-python\n",
    "# For example, here's several helpful packages to load\n",
    "\n",
    "import numpy as np # linear algebra\n",
    "import pandas as pd # data processing, CSV file I/O (e.g. pd.read_csv)\n",
    "\n",
    "# Input data files are available in the read-only \"../input/\" directory\n",
    "# For example, running this (by clicking run or pressing Shift+Enter) will list all files under the input directory\n",
    "\n",
    "import os\n",
    "for dirname, _, filenames in os.walk('/kaggle/input'):\n",
    "    for filename in filenames:\n",
    "        print(os.path.join(dirname, filename))\n",
    "        \n",
    "# You can write up to 20GB to the current directory (/kaggle/working/) that gets preserved as output when you create a version using \"Save & Run All\" \n",
    "# You can also write temporary files to /kaggle/temp/, but they won't be saved outside of the current session"
   ]
  },
  {
   "cell_type": "code",
   "execution_count": 2,
   "id": "1d66b0ba",
   "metadata": {
    "execution": {
     "iopub.execute_input": "2022-11-28T07:47:22.500302Z",
     "iopub.status.busy": "2022-11-28T07:47:22.499551Z",
     "iopub.status.idle": "2022-11-28T07:47:22.594843Z",
     "shell.execute_reply": "2022-11-28T07:47:22.593926Z"
    },
    "papermill": {
     "duration": 0.105012,
     "end_time": "2022-11-28T07:47:22.597206",
     "exception": false,
     "start_time": "2022-11-28T07:47:22.492194",
     "status": "completed"
    },
    "tags": []
   },
   "outputs": [
    {
     "data": {
      "text/html": [
       "<div>\n",
       "<style scoped>\n",
       "    .dataframe tbody tr th:only-of-type {\n",
       "        vertical-align: middle;\n",
       "    }\n",
       "\n",
       "    .dataframe tbody tr th {\n",
       "        vertical-align: top;\n",
       "    }\n",
       "\n",
       "    .dataframe thead th {\n",
       "        text-align: right;\n",
       "    }\n",
       "</style>\n",
       "<table border=\"1\" class=\"dataframe\">\n",
       "  <thead>\n",
       "    <tr style=\"text-align: right;\">\n",
       "      <th></th>\n",
       "      <th>Make</th>\n",
       "      <th>Model</th>\n",
       "      <th>Year</th>\n",
       "      <th>Engine Fuel Type</th>\n",
       "      <th>Engine HP</th>\n",
       "      <th>Engine Cylinders</th>\n",
       "      <th>Transmission Type</th>\n",
       "      <th>Driven_Wheels</th>\n",
       "      <th>Number of Doors</th>\n",
       "      <th>Market Category</th>\n",
       "      <th>Vehicle Size</th>\n",
       "      <th>Vehicle Style</th>\n",
       "      <th>highway MPG</th>\n",
       "      <th>city mpg</th>\n",
       "      <th>Popularity</th>\n",
       "      <th>MSRP</th>\n",
       "    </tr>\n",
       "  </thead>\n",
       "  <tbody>\n",
       "    <tr>\n",
       "      <th>0</th>\n",
       "      <td>BMW</td>\n",
       "      <td>1 Series M</td>\n",
       "      <td>2011</td>\n",
       "      <td>premium unleaded (required)</td>\n",
       "      <td>335.0</td>\n",
       "      <td>6.0</td>\n",
       "      <td>MANUAL</td>\n",
       "      <td>rear wheel drive</td>\n",
       "      <td>2.0</td>\n",
       "      <td>Factory Tuner,Luxury,High-Performance</td>\n",
       "      <td>Compact</td>\n",
       "      <td>Coupe</td>\n",
       "      <td>26</td>\n",
       "      <td>19</td>\n",
       "      <td>3916</td>\n",
       "      <td>46135</td>\n",
       "    </tr>\n",
       "    <tr>\n",
       "      <th>1</th>\n",
       "      <td>BMW</td>\n",
       "      <td>1 Series</td>\n",
       "      <td>2011</td>\n",
       "      <td>premium unleaded (required)</td>\n",
       "      <td>300.0</td>\n",
       "      <td>6.0</td>\n",
       "      <td>MANUAL</td>\n",
       "      <td>rear wheel drive</td>\n",
       "      <td>2.0</td>\n",
       "      <td>Luxury,Performance</td>\n",
       "      <td>Compact</td>\n",
       "      <td>Convertible</td>\n",
       "      <td>28</td>\n",
       "      <td>19</td>\n",
       "      <td>3916</td>\n",
       "      <td>40650</td>\n",
       "    </tr>\n",
       "    <tr>\n",
       "      <th>2</th>\n",
       "      <td>BMW</td>\n",
       "      <td>1 Series</td>\n",
       "      <td>2011</td>\n",
       "      <td>premium unleaded (required)</td>\n",
       "      <td>300.0</td>\n",
       "      <td>6.0</td>\n",
       "      <td>MANUAL</td>\n",
       "      <td>rear wheel drive</td>\n",
       "      <td>2.0</td>\n",
       "      <td>Luxury,High-Performance</td>\n",
       "      <td>Compact</td>\n",
       "      <td>Coupe</td>\n",
       "      <td>28</td>\n",
       "      <td>20</td>\n",
       "      <td>3916</td>\n",
       "      <td>36350</td>\n",
       "    </tr>\n",
       "    <tr>\n",
       "      <th>3</th>\n",
       "      <td>BMW</td>\n",
       "      <td>1 Series</td>\n",
       "      <td>2011</td>\n",
       "      <td>premium unleaded (required)</td>\n",
       "      <td>230.0</td>\n",
       "      <td>6.0</td>\n",
       "      <td>MANUAL</td>\n",
       "      <td>rear wheel drive</td>\n",
       "      <td>2.0</td>\n",
       "      <td>Luxury,Performance</td>\n",
       "      <td>Compact</td>\n",
       "      <td>Coupe</td>\n",
       "      <td>28</td>\n",
       "      <td>18</td>\n",
       "      <td>3916</td>\n",
       "      <td>29450</td>\n",
       "    </tr>\n",
       "    <tr>\n",
       "      <th>4</th>\n",
       "      <td>BMW</td>\n",
       "      <td>1 Series</td>\n",
       "      <td>2011</td>\n",
       "      <td>premium unleaded (required)</td>\n",
       "      <td>230.0</td>\n",
       "      <td>6.0</td>\n",
       "      <td>MANUAL</td>\n",
       "      <td>rear wheel drive</td>\n",
       "      <td>2.0</td>\n",
       "      <td>Luxury</td>\n",
       "      <td>Compact</td>\n",
       "      <td>Convertible</td>\n",
       "      <td>28</td>\n",
       "      <td>18</td>\n",
       "      <td>3916</td>\n",
       "      <td>34500</td>\n",
       "    </tr>\n",
       "  </tbody>\n",
       "</table>\n",
       "</div>"
      ],
      "text/plain": [
       "  Make       Model  Year             Engine Fuel Type  Engine HP  \\\n",
       "0  BMW  1 Series M  2011  premium unleaded (required)      335.0   \n",
       "1  BMW    1 Series  2011  premium unleaded (required)      300.0   \n",
       "2  BMW    1 Series  2011  premium unleaded (required)      300.0   \n",
       "3  BMW    1 Series  2011  premium unleaded (required)      230.0   \n",
       "4  BMW    1 Series  2011  premium unleaded (required)      230.0   \n",
       "\n",
       "   Engine Cylinders Transmission Type     Driven_Wheels  Number of Doors  \\\n",
       "0               6.0            MANUAL  rear wheel drive              2.0   \n",
       "1               6.0            MANUAL  rear wheel drive              2.0   \n",
       "2               6.0            MANUAL  rear wheel drive              2.0   \n",
       "3               6.0            MANUAL  rear wheel drive              2.0   \n",
       "4               6.0            MANUAL  rear wheel drive              2.0   \n",
       "\n",
       "                         Market Category Vehicle Size Vehicle Style  \\\n",
       "0  Factory Tuner,Luxury,High-Performance      Compact         Coupe   \n",
       "1                     Luxury,Performance      Compact   Convertible   \n",
       "2                Luxury,High-Performance      Compact         Coupe   \n",
       "3                     Luxury,Performance      Compact         Coupe   \n",
       "4                                 Luxury      Compact   Convertible   \n",
       "\n",
       "   highway MPG  city mpg  Popularity   MSRP  \n",
       "0           26        19        3916  46135  \n",
       "1           28        19        3916  40650  \n",
       "2           28        20        3916  36350  \n",
       "3           28        18        3916  29450  \n",
       "4           28        18        3916  34500  "
      ]
     },
     "execution_count": 2,
     "metadata": {},
     "output_type": "execute_result"
    }
   ],
   "source": [
    "# Read the testing dataset\n",
    "df = pd.read_csv('/kaggle/input/cardataset/data.csv')\n",
    "\n",
    "df.head()"
   ]
  },
  {
   "cell_type": "code",
   "execution_count": 3,
   "id": "5d01cdf2",
   "metadata": {
    "execution": {
     "iopub.execute_input": "2022-11-28T07:47:22.610885Z",
     "iopub.status.busy": "2022-11-28T07:47:22.610218Z",
     "iopub.status.idle": "2022-11-28T07:47:22.640798Z",
     "shell.execute_reply": "2022-11-28T07:47:22.639167Z"
    },
    "papermill": {
     "duration": 0.041085,
     "end_time": "2022-11-28T07:47:22.644106",
     "exception": false,
     "start_time": "2022-11-28T07:47:22.603021",
     "status": "completed"
    },
    "tags": []
   },
   "outputs": [
    {
     "name": "stdout",
     "output_type": "stream",
     "text": [
      "<class 'pandas.core.frame.DataFrame'>\n",
      "RangeIndex: 11914 entries, 0 to 11913\n",
      "Data columns (total 16 columns):\n",
      " #   Column             Non-Null Count  Dtype  \n",
      "---  ------             --------------  -----  \n",
      " 0   Make               11914 non-null  object \n",
      " 1   Model              11914 non-null  object \n",
      " 2   Year               11914 non-null  int64  \n",
      " 3   Engine Fuel Type   11911 non-null  object \n",
      " 4   Engine HP          11845 non-null  float64\n",
      " 5   Engine Cylinders   11884 non-null  float64\n",
      " 6   Transmission Type  11914 non-null  object \n",
      " 7   Driven_Wheels      11914 non-null  object \n",
      " 8   Number of Doors    11908 non-null  float64\n",
      " 9   Market Category    8172 non-null   object \n",
      " 10  Vehicle Size       11914 non-null  object \n",
      " 11  Vehicle Style      11914 non-null  object \n",
      " 12  highway MPG        11914 non-null  int64  \n",
      " 13  city mpg           11914 non-null  int64  \n",
      " 14  Popularity         11914 non-null  int64  \n",
      " 15  MSRP               11914 non-null  int64  \n",
      "dtypes: float64(3), int64(5), object(8)\n",
      "memory usage: 1.5+ MB\n"
     ]
    }
   ],
   "source": [
    "df.info()"
   ]
  },
  {
   "cell_type": "code",
   "execution_count": 4,
   "id": "1146767b",
   "metadata": {
    "execution": {
     "iopub.execute_input": "2022-11-28T07:47:22.657999Z",
     "iopub.status.busy": "2022-11-28T07:47:22.657563Z",
     "iopub.status.idle": "2022-11-28T07:47:22.699235Z",
     "shell.execute_reply": "2022-11-28T07:47:22.697930Z"
    },
    "papermill": {
     "duration": 0.052261,
     "end_time": "2022-11-28T07:47:22.702668",
     "exception": false,
     "start_time": "2022-11-28T07:47:22.650407",
     "status": "completed"
    },
    "tags": []
   },
   "outputs": [
    {
     "data": {
      "text/html": [
       "<div>\n",
       "<style scoped>\n",
       "    .dataframe tbody tr th:only-of-type {\n",
       "        vertical-align: middle;\n",
       "    }\n",
       "\n",
       "    .dataframe tbody tr th {\n",
       "        vertical-align: top;\n",
       "    }\n",
       "\n",
       "    .dataframe thead th {\n",
       "        text-align: right;\n",
       "    }\n",
       "</style>\n",
       "<table border=\"1\" class=\"dataframe\">\n",
       "  <thead>\n",
       "    <tr style=\"text-align: right;\">\n",
       "      <th></th>\n",
       "      <th>Year</th>\n",
       "      <th>Engine HP</th>\n",
       "      <th>Engine Cylinders</th>\n",
       "      <th>Number of Doors</th>\n",
       "      <th>highway MPG</th>\n",
       "      <th>city mpg</th>\n",
       "      <th>Popularity</th>\n",
       "      <th>MSRP</th>\n",
       "    </tr>\n",
       "  </thead>\n",
       "  <tbody>\n",
       "    <tr>\n",
       "      <th>count</th>\n",
       "      <td>11914.000000</td>\n",
       "      <td>11845.00000</td>\n",
       "      <td>11884.000000</td>\n",
       "      <td>11908.000000</td>\n",
       "      <td>11914.000000</td>\n",
       "      <td>11914.000000</td>\n",
       "      <td>11914.000000</td>\n",
       "      <td>1.191400e+04</td>\n",
       "    </tr>\n",
       "    <tr>\n",
       "      <th>mean</th>\n",
       "      <td>2010.384338</td>\n",
       "      <td>249.38607</td>\n",
       "      <td>5.628829</td>\n",
       "      <td>3.436093</td>\n",
       "      <td>26.637485</td>\n",
       "      <td>19.733255</td>\n",
       "      <td>1554.911197</td>\n",
       "      <td>4.059474e+04</td>\n",
       "    </tr>\n",
       "    <tr>\n",
       "      <th>std</th>\n",
       "      <td>7.579740</td>\n",
       "      <td>109.19187</td>\n",
       "      <td>1.780559</td>\n",
       "      <td>0.881315</td>\n",
       "      <td>8.863001</td>\n",
       "      <td>8.987798</td>\n",
       "      <td>1441.855347</td>\n",
       "      <td>6.010910e+04</td>\n",
       "    </tr>\n",
       "    <tr>\n",
       "      <th>min</th>\n",
       "      <td>1990.000000</td>\n",
       "      <td>55.00000</td>\n",
       "      <td>0.000000</td>\n",
       "      <td>2.000000</td>\n",
       "      <td>12.000000</td>\n",
       "      <td>7.000000</td>\n",
       "      <td>2.000000</td>\n",
       "      <td>2.000000e+03</td>\n",
       "    </tr>\n",
       "    <tr>\n",
       "      <th>25%</th>\n",
       "      <td>2007.000000</td>\n",
       "      <td>170.00000</td>\n",
       "      <td>4.000000</td>\n",
       "      <td>2.000000</td>\n",
       "      <td>22.000000</td>\n",
       "      <td>16.000000</td>\n",
       "      <td>549.000000</td>\n",
       "      <td>2.100000e+04</td>\n",
       "    </tr>\n",
       "    <tr>\n",
       "      <th>50%</th>\n",
       "      <td>2015.000000</td>\n",
       "      <td>227.00000</td>\n",
       "      <td>6.000000</td>\n",
       "      <td>4.000000</td>\n",
       "      <td>26.000000</td>\n",
       "      <td>18.000000</td>\n",
       "      <td>1385.000000</td>\n",
       "      <td>2.999500e+04</td>\n",
       "    </tr>\n",
       "    <tr>\n",
       "      <th>75%</th>\n",
       "      <td>2016.000000</td>\n",
       "      <td>300.00000</td>\n",
       "      <td>6.000000</td>\n",
       "      <td>4.000000</td>\n",
       "      <td>30.000000</td>\n",
       "      <td>22.000000</td>\n",
       "      <td>2009.000000</td>\n",
       "      <td>4.223125e+04</td>\n",
       "    </tr>\n",
       "    <tr>\n",
       "      <th>max</th>\n",
       "      <td>2017.000000</td>\n",
       "      <td>1001.00000</td>\n",
       "      <td>16.000000</td>\n",
       "      <td>4.000000</td>\n",
       "      <td>354.000000</td>\n",
       "      <td>137.000000</td>\n",
       "      <td>5657.000000</td>\n",
       "      <td>2.065902e+06</td>\n",
       "    </tr>\n",
       "  </tbody>\n",
       "</table>\n",
       "</div>"
      ],
      "text/plain": [
       "               Year    Engine HP  Engine Cylinders  Number of Doors  \\\n",
       "count  11914.000000  11845.00000      11884.000000     11908.000000   \n",
       "mean    2010.384338    249.38607          5.628829         3.436093   \n",
       "std        7.579740    109.19187          1.780559         0.881315   \n",
       "min     1990.000000     55.00000          0.000000         2.000000   \n",
       "25%     2007.000000    170.00000          4.000000         2.000000   \n",
       "50%     2015.000000    227.00000          6.000000         4.000000   \n",
       "75%     2016.000000    300.00000          6.000000         4.000000   \n",
       "max     2017.000000   1001.00000         16.000000         4.000000   \n",
       "\n",
       "        highway MPG      city mpg    Popularity          MSRP  \n",
       "count  11914.000000  11914.000000  11914.000000  1.191400e+04  \n",
       "mean      26.637485     19.733255   1554.911197  4.059474e+04  \n",
       "std        8.863001      8.987798   1441.855347  6.010910e+04  \n",
       "min       12.000000      7.000000      2.000000  2.000000e+03  \n",
       "25%       22.000000     16.000000    549.000000  2.100000e+04  \n",
       "50%       26.000000     18.000000   1385.000000  2.999500e+04  \n",
       "75%       30.000000     22.000000   2009.000000  4.223125e+04  \n",
       "max      354.000000    137.000000   5657.000000  2.065902e+06  "
      ]
     },
     "execution_count": 4,
     "metadata": {},
     "output_type": "execute_result"
    }
   ],
   "source": [
    "df.describe()"
   ]
  },
  {
   "cell_type": "code",
   "execution_count": 5,
   "id": "6d3dc39a",
   "metadata": {
    "execution": {
     "iopub.execute_input": "2022-11-28T07:47:22.716623Z",
     "iopub.status.busy": "2022-11-28T07:47:22.716208Z",
     "iopub.status.idle": "2022-11-28T07:47:22.725559Z",
     "shell.execute_reply": "2022-11-28T07:47:22.724308Z"
    },
    "papermill": {
     "duration": 0.01942,
     "end_time": "2022-11-28T07:47:22.728102",
     "exception": false,
     "start_time": "2022-11-28T07:47:22.708682",
     "status": "completed"
    },
    "tags": []
   },
   "outputs": [
    {
     "data": {
      "text/plain": [
       "array(['BMW', 'Audi', 'FIAT', 'Mercedes-Benz', 'Chrysler', 'Nissan',\n",
       "       'Volvo', 'Mazda', 'Mitsubishi', 'Ferrari', 'Alfa Romeo', 'Toyota',\n",
       "       'McLaren', 'Maybach', 'Pontiac', 'Porsche', 'Saab', 'GMC',\n",
       "       'Hyundai', 'Plymouth', 'Honda', 'Oldsmobile', 'Suzuki', 'Ford',\n",
       "       'Cadillac', 'Kia', 'Bentley', 'Chevrolet', 'Dodge', 'Lamborghini',\n",
       "       'Lincoln', 'Subaru', 'Volkswagen', 'Spyker', 'Buick', 'Acura',\n",
       "       'Rolls-Royce', 'Maserati', 'Lexus', 'Aston Martin', 'Land Rover',\n",
       "       'Lotus', 'Infiniti', 'Scion', 'Genesis', 'HUMMER', 'Tesla',\n",
       "       'Bugatti'], dtype=object)"
      ]
     },
     "execution_count": 5,
     "metadata": {},
     "output_type": "execute_result"
    }
   ],
   "source": [
    "df['Make'].unique()"
   ]
  },
  {
   "cell_type": "code",
   "execution_count": 6,
   "id": "887329af",
   "metadata": {
    "execution": {
     "iopub.execute_input": "2022-11-28T07:47:22.743228Z",
     "iopub.status.busy": "2022-11-28T07:47:22.742390Z",
     "iopub.status.idle": "2022-11-28T07:47:22.750245Z",
     "shell.execute_reply": "2022-11-28T07:47:22.749385Z"
    },
    "papermill": {
     "duration": 0.017586,
     "end_time": "2022-11-28T07:47:22.752286",
     "exception": false,
     "start_time": "2022-11-28T07:47:22.734700",
     "status": "completed"
    },
    "tags": []
   },
   "outputs": [
    {
     "data": {
      "text/plain": [
       "915"
      ]
     },
     "execution_count": 6,
     "metadata": {},
     "output_type": "execute_result"
    }
   ],
   "source": [
    "len(df['Model'].unique())"
   ]
  },
  {
   "cell_type": "markdown",
   "id": "88c2631d",
   "metadata": {
    "papermill": {
     "duration": 0.006043,
     "end_time": "2022-11-28T07:47:22.764766",
     "exception": false,
     "start_time": "2022-11-28T07:47:22.758723",
     "status": "completed"
    },
    "tags": []
   },
   "source": [
    "**LECTURE STARTS**\n",
    "* Python Basics\n",
    "* Data structures, functions\n",
    "* Numpy\n",
    "* Pandas\n",
    "* Data loading, storage and file formats"
   ]
  },
  {
   "cell_type": "markdown",
   "id": "727ffbc5",
   "metadata": {
    "papermill": {
     "duration": 0.007598,
     "end_time": "2022-11-28T07:47:22.778921",
     "exception": false,
     "start_time": "2022-11-28T07:47:22.771323",
     "status": "completed"
    },
    "tags": []
   },
   "source": [
    "**Things I have learned:**\n",
    "* Everything in Python is an object: number, string, function, class, etc."
   ]
  },
  {
   "cell_type": "markdown",
   "id": "d8398cf8",
   "metadata": {
    "papermill": {
     "duration": 0.005779,
     "end_time": "2022-11-28T07:47:22.790887",
     "exception": false,
     "start_time": "2022-11-28T07:47:22.785108",
     "status": "completed"
    },
    "tags": []
   },
   "source": [
    "**Python Basics**"
   ]
  },
  {
   "cell_type": "code",
   "execution_count": 7,
   "id": "4f098050",
   "metadata": {
    "execution": {
     "iopub.execute_input": "2022-11-28T07:47:22.805332Z",
     "iopub.status.busy": "2022-11-28T07:47:22.804735Z",
     "iopub.status.idle": "2022-11-28T07:47:22.811051Z",
     "shell.execute_reply": "2022-11-28T07:47:22.810008Z"
    },
    "papermill": {
     "duration": 0.016257,
     "end_time": "2022-11-28T07:47:22.813360",
     "exception": false,
     "start_time": "2022-11-28T07:47:22.797103",
     "status": "completed"
    },
    "tags": []
   },
   "outputs": [
    {
     "data": {
      "text/plain": [
       "True"
      ]
     },
     "execution_count": 7,
     "metadata": {},
     "output_type": "execute_result"
    }
   ],
   "source": [
    "b = 1.3\n",
    "isinstance(b, float)"
   ]
  },
  {
   "cell_type": "code",
   "execution_count": 8,
   "id": "4bb7d38c",
   "metadata": {
    "execution": {
     "iopub.execute_input": "2022-11-28T07:47:22.828431Z",
     "iopub.status.busy": "2022-11-28T07:47:22.828056Z",
     "iopub.status.idle": "2022-11-28T07:47:22.835840Z",
     "shell.execute_reply": "2022-11-28T07:47:22.834767Z"
    },
    "papermill": {
     "duration": 0.019535,
     "end_time": "2022-11-28T07:47:22.839587",
     "exception": false,
     "start_time": "2022-11-28T07:47:22.820052",
     "status": "completed"
    },
    "tags": []
   },
   "outputs": [
    {
     "name": "stdout",
     "output_type": "stream",
     "text": [
      "Compute a/b: 0.33\n",
      "The value of a: 0 and the value of 0\n",
      "The value of a: 0 and the value of -4.5\n",
      "Compute a/b: 1.00\n",
      "The value of a: -3.9 and the value of 0\n",
      "Compute a/b: 1.00\n",
      "Compute a/b: -1.00\n",
      "Compute a/b: 0.74\n",
      "The value of a: -2 and the value of -8\n",
      "The value of a: -3.4 and the value of 0\n"
     ]
    }
   ],
   "source": [
    "listOfNumbers = [(1, 3), (0, 0), (0, -4.5), (4.5, 4.5), (-3.9, 0), (2.2, 2.2), (9.2, -9.2), (2.8, 3.8), (-2, -8), (-3.4, 0)]\n",
    "\n",
    "for eachTuple in listOfNumbers:\n",
    "    \n",
    "    a,b = eachTuple\n",
    "\n",
    "    def func(a,b):\n",
    "        if a > 0 and b != 0:\n",
    "            print(f'Compute a/b: {a/b:.2f}')\n",
    "            return True\n",
    "\n",
    "        else:\n",
    "            print(f'The value of a: {a} and the value of {b}')\n",
    "            return False\n",
    "\n",
    "    func(a,b)"
   ]
  },
  {
   "cell_type": "markdown",
   "id": "c9801467",
   "metadata": {
    "papermill": {
     "duration": 0.006049,
     "end_time": "2022-11-28T07:47:22.852912",
     "exception": false,
     "start_time": "2022-11-28T07:47:22.846863",
     "status": "completed"
    },
    "tags": []
   },
   "source": [
    "* Mutable & Immutable\n",
    "\n",
    "* * A list is mutable\n",
    "* a[0] = 1\n",
    "* * A string is immutable\n",
    "* The above could not be done for strings\n",
    "\n",
    "* * Strings could be converted to a list"
   ]
  },
  {
   "cell_type": "markdown",
   "id": "b366bc25",
   "metadata": {
    "papermill": {
     "duration": 0.006348,
     "end_time": "2022-11-28T07:47:22.865555",
     "exception": false,
     "start_time": "2022-11-28T07:47:22.859207",
     "status": "completed"
    },
    "tags": []
   },
   "source": [
    "* Computing execution time"
   ]
  },
  {
   "cell_type": "code",
   "execution_count": 9,
   "id": "20d9e949",
   "metadata": {
    "execution": {
     "iopub.execute_input": "2022-11-28T07:47:22.881258Z",
     "iopub.status.busy": "2022-11-28T07:47:22.880876Z",
     "iopub.status.idle": "2022-11-28T07:47:22.885889Z",
     "shell.execute_reply": "2022-11-28T07:47:22.884779Z"
    },
    "papermill": {
     "duration": 0.015244,
     "end_time": "2022-11-28T07:47:22.887924",
     "exception": false,
     "start_time": "2022-11-28T07:47:22.872680",
     "status": "completed"
    },
    "tags": []
   },
   "outputs": [],
   "source": [
    "from datetime import datetime\n",
    "\n",
    "dt = datetime(2022, 11, 28, 10, 35)\n",
    "dt2 = datetime(2025, 11, 18, 10, 35)"
   ]
  },
  {
   "cell_type": "markdown",
   "id": "b9aabbd2",
   "metadata": {
    "papermill": {
     "duration": 0.006021,
     "end_time": "2022-11-28T07:47:22.900360",
     "exception": false,
     "start_time": "2022-11-28T07:47:22.894339",
     "status": "completed"
    },
    "tags": []
   },
   "source": [
    "* Atributes and functions in Python"
   ]
  },
  {
   "cell_type": "code",
   "execution_count": 10,
   "id": "344720dc",
   "metadata": {
    "execution": {
     "iopub.execute_input": "2022-11-28T07:47:22.915452Z",
     "iopub.status.busy": "2022-11-28T07:47:22.914615Z",
     "iopub.status.idle": "2022-11-28T07:47:22.921563Z",
     "shell.execute_reply": "2022-11-28T07:47:22.920643Z"
    },
    "papermill": {
     "duration": 0.017033,
     "end_time": "2022-11-28T07:47:22.923718",
     "exception": false,
     "start_time": "2022-11-28T07:47:22.906685",
     "status": "completed"
    },
    "tags": []
   },
   "outputs": [
    {
     "data": {
      "text/plain": [
       "2022"
      ]
     },
     "execution_count": 10,
     "metadata": {},
     "output_type": "execute_result"
    }
   ],
   "source": [
    "dt.year"
   ]
  },
  {
   "cell_type": "code",
   "execution_count": 11,
   "id": "5a743348",
   "metadata": {
    "execution": {
     "iopub.execute_input": "2022-11-28T07:47:22.938904Z",
     "iopub.status.busy": "2022-11-28T07:47:22.937985Z",
     "iopub.status.idle": "2022-11-28T07:47:22.944672Z",
     "shell.execute_reply": "2022-11-28T07:47:22.943641Z"
    },
    "papermill": {
     "duration": 0.016573,
     "end_time": "2022-11-28T07:47:22.946776",
     "exception": false,
     "start_time": "2022-11-28T07:47:22.930203",
     "status": "completed"
    },
    "tags": []
   },
   "outputs": [
    {
     "data": {
      "text/plain": [
       "datetime.date(2022, 11, 28)"
      ]
     },
     "execution_count": 11,
     "metadata": {},
     "output_type": "execute_result"
    }
   ],
   "source": [
    "dt.date()"
   ]
  },
  {
   "cell_type": "code",
   "execution_count": 12,
   "id": "49d5848c",
   "metadata": {
    "execution": {
     "iopub.execute_input": "2022-11-28T07:47:22.963079Z",
     "iopub.status.busy": "2022-11-28T07:47:22.962075Z",
     "iopub.status.idle": "2022-11-28T07:47:22.968258Z",
     "shell.execute_reply": "2022-11-28T07:47:22.967464Z"
    },
    "papermill": {
     "duration": 0.016915,
     "end_time": "2022-11-28T07:47:22.970241",
     "exception": false,
     "start_time": "2022-11-28T07:47:22.953326",
     "status": "completed"
    },
    "tags": []
   },
   "outputs": [
    {
     "data": {
      "text/plain": [
       "datetime.time(10, 35)"
      ]
     },
     "execution_count": 12,
     "metadata": {},
     "output_type": "execute_result"
    }
   ],
   "source": [
    "dt.time()"
   ]
  },
  {
   "cell_type": "code",
   "execution_count": 13,
   "id": "e2044fb5",
   "metadata": {
    "execution": {
     "iopub.execute_input": "2022-11-28T07:47:22.985604Z",
     "iopub.status.busy": "2022-11-28T07:47:22.984881Z",
     "iopub.status.idle": "2022-11-28T07:47:22.990793Z",
     "shell.execute_reply": "2022-11-28T07:47:22.989775Z"
    },
    "papermill": {
     "duration": 0.015996,
     "end_time": "2022-11-28T07:47:22.992978",
     "exception": false,
     "start_time": "2022-11-28T07:47:22.976982",
     "status": "completed"
    },
    "tags": []
   },
   "outputs": [
    {
     "data": {
      "text/plain": [
       "datetime.timedelta(days=1086)"
      ]
     },
     "execution_count": 13,
     "metadata": {},
     "output_type": "execute_result"
    }
   ],
   "source": [
    "dt2-dt"
   ]
  },
  {
   "cell_type": "code",
   "execution_count": 14,
   "id": "9818bc81",
   "metadata": {
    "execution": {
     "iopub.execute_input": "2022-11-28T07:47:23.008778Z",
     "iopub.status.busy": "2022-11-28T07:47:23.007996Z",
     "iopub.status.idle": "2022-11-28T07:47:23.012430Z",
     "shell.execute_reply": "2022-11-28T07:47:23.011675Z"
    },
    "papermill": {
     "duration": 0.014771,
     "end_time": "2022-11-28T07:47:23.014626",
     "exception": false,
     "start_time": "2022-11-28T07:47:22.999855",
     "status": "completed"
    },
    "tags": []
   },
   "outputs": [],
   "source": [
    "a = 1.3\n",
    "\n",
    "if a > 1:\n",
    "    pass\n",
    "else:\n",
    "    print(a)"
   ]
  },
  {
   "cell_type": "code",
   "execution_count": 15,
   "id": "5386f5f5",
   "metadata": {
    "execution": {
     "iopub.execute_input": "2022-11-28T07:47:23.030787Z",
     "iopub.status.busy": "2022-11-28T07:47:23.030105Z",
     "iopub.status.idle": "2022-11-28T07:47:23.037459Z",
     "shell.execute_reply": "2022-11-28T07:47:23.036007Z"
    },
    "papermill": {
     "duration": 0.018207,
     "end_time": "2022-11-28T07:47:23.039674",
     "exception": false,
     "start_time": "2022-11-28T07:47:23.021467",
     "status": "completed"
    },
    "tags": []
   },
   "outputs": [
    {
     "name": "stdout",
     "output_type": "stream",
     "text": [
      "i and j are 0, 0\n",
      "i and j are 0, 1\n",
      "i and j are 0, 2\n",
      "i and j are 0, 4\n",
      "i and j are 1, 0\n",
      "i and j are 1, 1\n",
      "i and j are 1, 2\n",
      "i and j are 1, 4\n",
      "i and j are 2, 0\n",
      "i and j are 2, 1\n",
      "i and j are 2, 2\n",
      "i and j are 2, 4\n",
      "i and j are 3, 0\n",
      "i and j are 3, 1\n",
      "i and j are 3, 2\n",
      "i and j are 3, 4\n"
     ]
    }
   ],
   "source": [
    "for i in range(4):\n",
    "    for j in range(5):\n",
    "        if j == 3: \n",
    "            continue # skip no. 3\n",
    "        print(f'i and j are {i}, {j}')"
   ]
  },
  {
   "cell_type": "code",
   "execution_count": null,
   "id": "b0588d6f",
   "metadata": {
    "papermill": {
     "duration": 0.006522,
     "end_time": "2022-11-28T07:47:23.053034",
     "exception": false,
     "start_time": "2022-11-28T07:47:23.046512",
     "status": "completed"
    },
    "tags": []
   },
   "outputs": [],
   "source": []
  }
 ],
 "metadata": {
  "kernelspec": {
   "display_name": "Python 3",
   "language": "python",
   "name": "python3"
  },
  "language_info": {
   "codemirror_mode": {
    "name": "ipython",
    "version": 3
   },
   "file_extension": ".py",
   "mimetype": "text/x-python",
   "name": "python",
   "nbconvert_exporter": "python",
   "pygments_lexer": "ipython3",
   "version": "3.7.12"
  },
  "papermill": {
   "default_parameters": {},
   "duration": 9.710114,
   "end_time": "2022-11-28T07:47:23.682080",
   "environment_variables": {},
   "exception": null,
   "input_path": "__notebook__.ipynb",
   "output_path": "__notebook__.ipynb",
   "parameters": {},
   "start_time": "2022-11-28T07:47:13.971966",
   "version": "2.3.4"
  }
 },
 "nbformat": 4,
 "nbformat_minor": 5
}
