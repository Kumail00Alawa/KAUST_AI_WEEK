{
  "nbformat": 4,
  "nbformat_minor": 0,
  "metadata": {
    "colab": {
      "provenance": [],
      "include_colab_link": true
    },
    "kernelspec": {
      "name": "python3",
      "display_name": "Python 3"
    },
    "language_info": {
      "name": "python"
    }
  },
  "cells": [
    {
      "cell_type": "markdown",
      "metadata": {
        "id": "view-in-github",
        "colab_type": "text"
      },
      "source": [
        "<a href=\"https://colab.research.google.com/github/Kumail00Alawa/KAUST_AI_WEEK/blob/main/Copy_of_OSAP_LogisticRegression3.ipynb\" target=\"_parent\"><img src=\"https://colab.research.google.com/assets/colab-badge.svg\" alt=\"Open In Colab\"/></a>"
      ]
    },
    {
      "cell_type": "markdown",
      "source": [
        "Expectation: A working solution where the learned class label using Logistic Regression is similar (for most possible points) to the training class label. Also show the decision boundary.\n",
        "\n",
        "\n",
        "\n",
        "Optional: Also show the normal to the decision boundary. This is not covered in the class. So it is not necessary to attempt it."
      ],
      "metadata": {
        "id": "KFQbmp_5jSk5"
      }
    },
    {
      "cell_type": "code",
      "execution_count": 2,
      "metadata": {
        "id": "cLcvhf0RAnKR"
      },
      "outputs": [],
      "source": [
        "import numpy as np\n",
        "import matplotlib.pyplot as plt\n",
        "\n",
        "%matplotlib inline"
      ]
    },
    {
      "cell_type": "code",
      "source": [
        "def plotClass(X,y,p):\n",
        "    plt.figure()\n",
        "    for i in range(y.shape[1]):\n",
        "        if y[0,i]==0:\n",
        "            plt.plot(X[0,i],X[1,i],'r'+p)\n",
        "        else:\n",
        "            plt.plot(X[0,i],X[1,i],'b'+p)\n",
        "            \n",
        "    plt.show()"
      ],
      "metadata": {
        "id": "pk9S9C_QAu_I"
      },
      "execution_count": 3,
      "outputs": []
    },
    {
      "cell_type": "code",
      "source": [
        "num_data=100 # data points per class\n",
        "\n",
        "x1=np.random.randn(2,num_data)+4\n",
        "x0=np.random.randn(2,num_data)\n",
        "\n",
        "y1=np.ones((1,num_data))\n",
        "y0=np.zeros((1,num_data))\n",
        "\n",
        "X=np.concatenate((x1,x0),axis=1)\n",
        "y=np.concatenate((y1,y0), axis=1)\n",
        "plotClass(X,y,'o')\n",
        "print(X.shape)\n",
        "print(y.shape)\n",
        "\n",
        "from sklearn import linear_model\n",
        "\n",
        "num_data=100 # data points per class\n",
        "# print(X)\n",
        "print(X.shape)\n",
        "print(y.shape)\n",
        "\n",
        "\n",
        "logistic = linear_model.LogisticRegression()\n",
        "logistic.fit(X.T,y.squeeze())\n",
        "\n",
        "b = logistic.intercept_\n",
        "\n",
        "w1, w2 = logistic.coef_.T\n",
        "\n",
        "c = -b/w2\n",
        "\n",
        "m = -w1/w2\n",
        "\n",
        "print(m,c)\n",
        "\n",
        "newLine = m*[x/10 for x in range(-50,50)] + c\n",
        "\n",
        "print(newLine)\n",
        "\n",
        "plt.plot([x/10 for x in range(-50,50)], newLine)"
      ],
      "metadata": {
        "colab": {
          "base_uri": "https://localhost:8080/",
          "height": 912
        },
        "id": "vN0hzaUyAxWW",
        "outputId": "3a2b110c-1743-49ca-c187-f32fc88fcbf1"
      },
      "execution_count": 4,
      "outputs": [
        {
          "output_type": "display_data",
          "data": {
            "text/plain": [
              "<Figure size 432x288 with 1 Axes>"
            ],
            "image/png": "[encoded data removed]"
          },
          "metadata": {
            "needs_background": "light"
          }
        },
        {
          "output_type": "stream",
          "name": "stdout",
          "text": [
            "(2, 200)\n",
            "(1, 200)\n",
            "(2, 200)\n",
            "(1, 200)\n",
            "[-0.89240221] [4.20497334]\n",
            "[ 8.66698441  8.57774419  8.48850396  8.39926374  8.31002352  8.2207833\n",
            "  8.13154308  8.04230286  7.95306264  7.86382241  7.77458219  7.68534197\n",
            "  7.59610175  7.50686153  7.41762131  7.32838109  7.23914086  7.14990064\n",
            "  7.06066042  6.9714202   6.88217998  6.79293976  6.70369954  6.61445932\n",
            "  6.52521909  6.43597887  6.34673865  6.25749843  6.16825821  6.07901799\n",
            "  5.98977777  5.90053754  5.81129732  5.7220571   5.63281688  5.54357666\n",
            "  5.45433644  5.36509622  5.27585599  5.18661577  5.09737555  5.00813533\n",
            "  4.91889511  4.82965489  4.74041467  4.65117445  4.56193422  4.472694\n",
            "  4.38345378  4.29421356  4.20497334  4.11573312  4.0264929   3.93725267\n",
            "  3.84801245  3.75877223  3.66953201  3.58029179  3.49105157  3.40181135\n",
            "  3.31257112  3.2233309   3.13409068  3.04485046  2.95561024  2.86637002\n",
            "  2.7771298   2.68788958  2.59864935  2.50940913  2.42016891  2.33092869\n",
            "  2.24168847  2.15244825  2.06320803  1.9739678   1.88472758  1.79548736\n",
            "  1.70624714  1.61700692  1.5277667   1.43852648  1.34928625  1.26004603\n",
            "  1.17080581  1.08156559  0.99232537  0.90308515  0.81384493  0.72460471\n",
            "  0.63536448  0.54612426  0.45688404  0.36764382  0.2784036   0.18916338\n",
            "  0.09992316  0.01068293 -0.07855729 -0.16779751]\n"
          ]
        },
        {
          "output_type": "execute_result",
          "data": {
            "text/plain": [
              "[<matplotlib.lines.Line2D at 0x7f63edbe5750>]"
            ]
          },
          "metadata": {},
          "execution_count": 4
        },
        {
          "output_type": "display_data",
          "data": {
            "text/plain": [
              "<Figure size 432x288 with 1 Axes>"
            ],
            "image/png": "[encoded data removed]"
          },
          "metadata": {
            "needs_background": "light"
          }
        }
      ]
    },
    {
      "cell_type": "code",
      "source": [],
      "metadata": {
        "id": "VwE7iKwQFAnr"
      },
      "execution_count": null,
      "outputs": []
    }
  ]
}