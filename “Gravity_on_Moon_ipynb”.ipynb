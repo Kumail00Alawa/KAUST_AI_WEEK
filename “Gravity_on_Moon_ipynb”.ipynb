{
  "nbformat": 4,
  "nbformat_minor": 0,
  "metadata": {
    "colab": {
      "provenance": [],
      "include_colab_link": true
    },
    "kernelspec": {
      "name": "python3",
      "display_name": "Python 3"
    },
    "language_info": {
      "name": "python"
    }
  },
  "cells": [
    {
      "cell_type": "markdown",
      "metadata": {
        "id": "view-in-github",
        "colab_type": "text"
      },
      "source": [
        "<a href=\"https://colab.research.google.com/github/Kumail00Alawa/KAUST_AI_WEEK/blob/main/%E2%80%9CGravity_on_Moon_ipynb%E2%80%9D.ipynb\" target=\"_parent\"><img src=\"https://colab.research.google.com/assets/colab-badge.svg\" alt=\"Open In Colab\"/></a>"
      ]
    },
    {
      "cell_type": "markdown",
      "source": [
        "Expectation: A working solution where the learned function using Linear Regression is close to the training data points.\n",
        "\n",
        "Finding the value of gravity by comparing the equation of motion and the hypthesis function.\n",
        "\n"
      ],
      "metadata": {
        "id": "p-Nx5dlzhINZ"
      }
    },
    {
      "cell_type": "code",
      "metadata": {
        "colab": {
          "base_uri": "https://localhost:8080/",
          "height": 265
        },
        "id": "cx4pkfo5xeEv",
        "outputId": "1a8e42ed-aa91-498a-ecda-e795b364d448"
      },
      "source": [
        "#[Fictional Story] The astronauts on moon wanted to measure the value of gravity on the moon. The decide to throw a spanner \n",
        "#from different heights and measure the time needed to cover the distance and based on these values want to extract the value of \n",
        "#gravity on moon. The values might be slightly off due to human error and the (very thin) moon atmosphere. Use linear regression to \n",
        "#find the value of gravity on the moon.\n",
        "\n",
        "\n",
        "\n",
        "import matplotlib.pyplot as plt\n",
        "import numpy as np\n",
        "\n",
        "gmoon=9.8/6\n",
        "t=np.linspace(1,3,20)\n",
        "s=0.5*gmoon*t**2 + 0.05*np.random.randn(t.size)\n",
        "plt.plot(t,s,'.')\n",
        "plt.show()"
      ],
      "execution_count": null,
      "outputs": [
        {
          "output_type": "display_data",
          "data": {
            "text/plain": [
              "<Figure size 432x288 with 1 Axes>"
            ],
            "image/png": "[encoded data removed]"
          },
          "metadata": {
            "needs_background": "light"
          }
        }
      ]
    },
    {
      "cell_type": "code",
      "source": [
        "# the easiest way is to use library\n",
        "from sklearn.linear_model import LinearRegression\n",
        "\n",
        "estimator = LinearRegression(fit_intercept=False)\n",
        "\n",
        "inputs = 0.5 * t[:, None] ** 2\n",
        "outputs = s[:, None]\n",
        "\n",
        "estimator.fit(inputs, outputs)\n",
        "\n",
        "gmoon_pred = estimator.coef_[0][0]\n",
        "\n",
        "print(f\"Real gmoon is {gmoon}, the prediceted gmoon is {gmoon_pred}\")\n",
        "\n",
        "pred_y = 0.5*gmoon*t**2\n",
        "plt.plot(t,s,'.')\n",
        "plt.plot(t,pred_y)\n",
        "plt.show()"
      ],
      "metadata": {
        "id": "oxQN1n-PEu3y",
        "outputId": "c68a5e4e-54d7-4578-bb6a-c2b6d177eb3e",
        "colab": {
          "base_uri": "https://localhost:8080/",
          "height": 283
        }
      },
      "execution_count": null,
      "outputs": [
        {
          "output_type": "stream",
          "name": "stdout",
          "text": [
            "Real gmoon is 1.6333333333333335, the prediceted gmoon is 1.6281905379914081\n"
          ]
        },
        {
          "output_type": "display_data",
          "data": {
            "text/plain": [
              "<Figure size 432x288 with 1 Axes>"
            ],
            "image/png": "[encoded data removed]"
          },
          "metadata": {
            "needs_background": "light"
          }
        }
      ]
    },
    {
      "cell_type": "code",
      "source": [
        "# if we want to write by ourselves\n",
        "\n",
        "# data list X: shape [N, n], (have N samples, each one has n values)\n",
        "# target list Y: shape [N, 1], (have N samples, each one has 1 values)\n",
        "# coefficient matrix A: [n, 1], (have n variable)\n",
        "\n",
        "# in our case: N=len(t), n=1, A has only variable gmoon\n",
        "\n",
        "# math theory: (@ is the matrix dot)\n",
        "# pred_Y = X @ A\n",
        "# mse = mean((pred_Y - Y)**2) \n",
        "\n",
        "# written in matrix\n",
        "# mse = (X @ A - Y).T @ (X @ A - Y)\n",
        "# d(mse)/d(A) = 2 * X.T @ (Y - X @ A)\n",
        "\n",
        "# let d(mse)/d(A)==0, now we get the same equation in slides (p41)\n",
        "# A = (X.T @ X) ** -1 @ X.T @ Y\n",
        "\n",
        "# use the equation in slides (p41)\n",
        "X = 0.5 * t[:, None] ** 2\n",
        "Y = s[:, None]\n",
        "\n",
        "pred_gmoon = (X.T @ X) ** -1 @ X.T @ Y\n",
        "print(f\"Real gmoon is {gmoon}, the prediceted gmoon is {pred_gmoon}\")\n",
        "\n",
        "pred_y = 0.5*pred_gmoon[0,0]*t**2\n",
        "plt.plot(t,s,'.')\n",
        "plt.plot(t,pred_y)\n",
        "plt.show()"
      ],
      "metadata": {
        "id": "aoFsuUvYJpod",
        "outputId": "ed66d661-ace3-4909-9123-df6cfb486608",
        "colab": {
          "base_uri": "https://localhost:8080/",
          "height": 283
        }
      },
      "execution_count": null,
      "outputs": [
        {
          "output_type": "stream",
          "name": "stdout",
          "text": [
            "Real gmoon is 1.6333333333333335, the prediceted gmoon is [[1.62819054]]\n"
          ]
        },
        {
          "output_type": "display_data",
          "data": {
            "text/plain": [
              "<Figure size 432x288 with 1 Axes>"
            ],
            "image/png": "[encoded data removed]"
          },
          "metadata": {
            "needs_background": "light"
          }
        }
      ]
    }
  ]
}