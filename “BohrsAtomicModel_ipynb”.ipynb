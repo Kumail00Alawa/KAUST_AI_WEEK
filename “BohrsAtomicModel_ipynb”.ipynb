{
  "nbformat": 4,
  "nbformat_minor": 0,
  "metadata": {
    "colab": {
      "provenance": [],
      "include_colab_link": true
    },
    "kernelspec": {
      "name": "python3",
      "display_name": "Python 3"
    },
    "language_info": {
      "name": "python"
    }
  },
  "cells": [
    {
      "cell_type": "markdown",
      "metadata": {
        "id": "view-in-github",
        "colab_type": "text"
      },
      "source": [
        "<a href=\"https://colab.research.google.com/github/Kumail00Alawa/KAUST_AI_WEEK/blob/main/%E2%80%9CBohrsAtomicModel_ipynb%E2%80%9D.ipynb\" target=\"_parent\"><img src=\"https://colab.research.google.com/assets/colab-badge.svg\" alt=\"Open In Colab\"/></a>"
      ]
    },
    {
      "cell_type": "markdown",
      "source": [
        "Expectation: A working solution where the learned function using Linear Regression is close to the training data points.\n",
        "\n"
      ],
      "metadata": {
        "id": "Nnj-O_Rzh22i"
      }
    },
    {
      "cell_type": "code",
      "metadata": {
        "colab": {
          "base_uri": "https://localhost:8080/",
          "height": 276
        },
        "id": "MVTNLbMT25BX",
        "outputId": "47c9f397-e0d2-4e0c-e240-78ed6ee17750"
      },
      "source": [
        "#[Fictional Story] The data for the hydrogen spectrum was provided to a statistcain and he/She decided to use linear regression\n",
        "#model for finding the relation between the hydrogen spectrum and the hydrogen shell. The statistican wants to find the relatioship between \n",
        "#the shell from which the electron jumps (ni) to the first shell and the spatial frequency (sf). He/She tries to fit 2-7 order polynomial to the data.\n",
        "import numpy as np\n",
        "import matplotlib.pyplot as plt\n",
        "\n",
        "\n",
        "ni=np.arange(2,25)\n",
        "\n",
        "sf=[(1.1*10**7)*(1/(1)**2 -1/(i)**2) for i in ni] \n",
        "plt.plot(ni,sf,'.')\n",
        "plt.show()"
      ],
      "execution_count": null,
      "outputs": [
        {
          "output_type": "display_data",
          "data": {
            "text/plain": [
              "<Figure size 432x288 with 1 Axes>"
            ],
            "image/png": "[encoded data removed]"
          },
          "metadata": {
            "needs_background": "light"
          }
        }
      ]
    },
    {
      "cell_type": "code",
      "source": [
        "# the easiest way is to use library\n",
        "from sklearn.linear_model import LinearRegression\n",
        "\n",
        "estimator = LinearRegression(fit_intercept=False)\n",
        "\n",
        "polynomial_order = 7\n",
        "order_list = np.array([ni**i for i in range(polynomial_order)])\n",
        "inputs = np.stack(order_list, axis=1)\n",
        "outputs = np.array(sf)\n",
        "\n",
        "estimator.fit(inputs, outputs)\n",
        "\n",
        "coefficient = estimator.coef_\n",
        "\n",
        "pred_y = inputs @ coefficient\n",
        "plt.plot(ni, sf,'.')\n",
        "plt.plot(ni, pred_y)\n",
        "plt.show()"
      ],
      "metadata": {
        "id": "geIUTlB5HQsT",
        "outputId": "3b1dd889-09b9-4b42-874c-32797d5f49d1",
        "colab": {
          "base_uri": "https://localhost:8080/",
          "height": 276
        }
      },
      "execution_count": null,
      "outputs": [
        {
          "output_type": "display_data",
          "data": {
            "text/plain": [
              "<Figure size 432x288 with 1 Axes>"
            ],
            "image/png": "[encoded data removed]"
          },
          "metadata": {
            "needs_background": "light"
          }
        }
      ]
    },
    {
      "cell_type": "code",
      "source": [
        "# if we want to write by ourselves\n",
        "\n",
        "# data list X: shape [N, n], (have N samples, each one has n values)\n",
        "# target list Y: shape [N, 1], (have N samples, each one has 1 values)\n",
        "# coefficient matrix A: [n, 1], (have n variable)\n",
        "\n",
        "# in our case: N=len(t), n=1, A has only variable gmoon\n",
        "\n",
        "# math theory: (@ is the matrix dot)\n",
        "# pred_Y = X @ A\n",
        "# mse = mean((pred_Y - Y)**2) \n",
        "\n",
        "# written in matrix\n",
        "# mse = (X @ A - Y).T @ (X @ A - Y)\n",
        "# d(mse)/d(A) = 2 * X.T @ (Y - X @ A)\n",
        "\n",
        "# let d(mse)/d(A)==0, now we get the same equation in slides (p41)\n",
        "# A = (X.T @ X) ** -1 @ X.T @ Y\n",
        "\n",
        "# use the equation in slides (p41)\n",
        "X = inputs\n",
        "Y = outputs\n",
        "\n",
        "A = np.linalg.inv(X.T @ X) @ X.T @ Y\n",
        "pred_y = X @ A\n",
        "\n",
        "plt.plot(ni, sf,'.')\n",
        "plt.plot(ni, pred_y)\n",
        "plt.show()"
      ],
      "metadata": {
        "colab": {
          "base_uri": "https://localhost:8080/",
          "height": 294
        },
        "id": "rnUzWn6Hknnh",
        "outputId": "403f0485-3e22-4fac-921d-6a393adbb974"
      },
      "execution_count": null,
      "outputs": [
        {
          "output_type": "stream",
          "name": "stdout",
          "text": [
            "(7, 7)\n"
          ]
        },
        {
          "output_type": "display_data",
          "data": {
            "text/plain": [
              "<Figure size 432x288 with 1 Axes>"
            ],
            "image/png": "[encoded data removed]"
          },
          "metadata": {
            "needs_background": "light"
          }
        }
      ]
    }
  ]
}